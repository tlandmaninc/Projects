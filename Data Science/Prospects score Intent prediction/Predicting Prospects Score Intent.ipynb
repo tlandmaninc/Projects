{
 "cells": [
  {
   "cell_type": "markdown",
   "metadata": {},
   "source": [
    "##  <font color= darkblue>  Predicting Prospects  Score Intent</font>##"
   ]
  },
  {
   "cell_type": "markdown",
   "metadata": {},
   "source": [
    "### <font color=darkgreen>Problem Defenition</font> ###"
   ]
  },
  {
   "cell_type": "markdown",
   "metadata": {},
   "source": [
    "Company XYZ sells routers to companies. They have a database with information about all sales prospects they got in touch with in 2015. Some of these people became customers (i.e.  bought at least one router) and some didn't end up buying. Therefore, we want to Build a model which assigns to each prospect in the Prospects table the probability of becoming a customer. We will call this score \"intent\". "
   ]
  },
  {
   "cell_type": "markdown",
   "metadata": {},
   "source": [
    "**Importing Packages**"
   ]
  },
  {
   "cell_type": "code",
   "execution_count": 2,
   "metadata": {},
   "outputs": [],
   "source": [
    "import numpy as np\n",
    "import pandas as pd\n",
    "import matplotlib as mp\n",
    "%matplotlib inline\n",
    "import matplotlib.pyplot as plt\n",
    "import sklearn as sk\n",
    "import statistics as stat\n",
    "import datetime as dt\n",
    "import seaborn as sns"
   ]
  },
  {
   "cell_type": "markdown",
   "metadata": {},
   "source": [
    "**Loading Data**"
   ]
  },
  {
   "cell_type": "code",
   "execution_count": 3,
   "metadata": {},
   "outputs": [],
   "source": [
    "#Load Prospects & Sales tables\n",
    "Prospects= pd.read_excel(\"Prospects.xlsx\")\n",
    "Sales= pd.read_excel(\"Sales.xlsx\")"
   ]
  },
  {
   "cell_type": "markdown",
   "metadata": {},
   "source": [
    "**Exploring Prospects Table**"
   ]
  },
  {
   "cell_type": "markdown",
   "metadata": {},
   "source": [
    "Prospects table contains general information about prospects and the company they work for \n",
    "\n",
    "**Columns:**\n",
    "- **user_id**: the id of the prospect. Unique by prospect. Can be joined to user_id in \n",
    "the other table \n",
    "- **company_sector**: the sector in which the company operates, i.e. public administration, finance and insurance, healthcare, etc. \n",
    "- **company_size**: number of employees \n",
    "-  **DMU_role**: Decision Making Unit role of this employee, i.e. Influencer, Budget Holder, Decision Maker...  \n",
    "- **joining_date**: when the prospect joined the company \n",
    "- **country**: country where the prospect is based   "
   ]
  },
  {
   "cell_type": "code",
   "execution_count": 4,
   "metadata": {},
   "outputs": [
    {
     "name": "stdout",
     "output_type": "stream",
     "text": [
      "Total Prospects:  2999\n",
      "Total Unique Prospects:  2995\n"
     ]
    },
    {
     "data": {
      "text/html": [
       "<div>\n",
       "<style scoped>\n",
       "    .dataframe tbody tr th:only-of-type {\n",
       "        vertical-align: middle;\n",
       "    }\n",
       "\n",
       "    .dataframe tbody tr th {\n",
       "        vertical-align: top;\n",
       "    }\n",
       "\n",
       "    .dataframe thead th {\n",
       "        text-align: right;\n",
       "    }\n",
       "</style>\n",
       "<table border=\"1\" class=\"dataframe\">\n",
       "  <thead>\n",
       "    <tr style=\"text-align: right;\">\n",
       "      <th></th>\n",
       "      <th>user_id</th>\n",
       "      <th>company_sector</th>\n",
       "      <th>company_size</th>\n",
       "      <th>DMU_final</th>\n",
       "      <th>joining_date</th>\n",
       "      <th>country</th>\n",
       "    </tr>\n",
       "  </thead>\n",
       "  <tbody>\n",
       "    <tr>\n",
       "      <th>0</th>\n",
       "      <td>0018000000uEraqAAC</td>\n",
       "      <td>Finance and Insurance</td>\n",
       "      <td>10</td>\n",
       "      <td>End User</td>\n",
       "      <td>2010-04-13</td>\n",
       "      <td>FRANCE</td>\n",
       "    </tr>\n",
       "    <tr>\n",
       "      <th>1</th>\n",
       "      <td>0018000000qlc1RAAQ</td>\n",
       "      <td>Public Administration</td>\n",
       "      <td>1</td>\n",
       "      <td>End User</td>\n",
       "      <td>2004-09-22</td>\n",
       "      <td>FRANCE</td>\n",
       "    </tr>\n",
       "    <tr>\n",
       "      <th>2</th>\n",
       "      <td>0018000000uI1MjAAK</td>\n",
       "      <td>Professional, Scientific, and Technical Services</td>\n",
       "      <td>10</td>\n",
       "      <td>End User</td>\n",
       "      <td>2013-06-09</td>\n",
       "      <td>FRANCE</td>\n",
       "    </tr>\n",
       "    <tr>\n",
       "      <th>3</th>\n",
       "      <td>0018000000qlsFyAAI</td>\n",
       "      <td>Information</td>\n",
       "      <td>15</td>\n",
       "      <td>End User</td>\n",
       "      <td>2003-02-25</td>\n",
       "      <td>FRANCE</td>\n",
       "    </tr>\n",
       "    <tr>\n",
       "      <th>4</th>\n",
       "      <td>0018000000qnZ05AAE</td>\n",
       "      <td>Wholesale Trade</td>\n",
       "      <td>10</td>\n",
       "      <td>End User</td>\n",
       "      <td>2009-11-16</td>\n",
       "      <td>FRANCE</td>\n",
       "    </tr>\n",
       "  </tbody>\n",
       "</table>\n",
       "</div>"
      ],
      "text/plain": [
       "              user_id                                    company_sector  \\\n",
       "0  0018000000uEraqAAC                             Finance and Insurance   \n",
       "1  0018000000qlc1RAAQ                             Public Administration   \n",
       "2  0018000000uI1MjAAK  Professional, Scientific, and Technical Services   \n",
       "3  0018000000qlsFyAAI                                       Information   \n",
       "4  0018000000qnZ05AAE                                   Wholesale Trade   \n",
       "\n",
       "   company_size DMU_final joining_date country  \n",
       "0            10  End User   2010-04-13  FRANCE  \n",
       "1             1  End User   2004-09-22  FRANCE  \n",
       "2            10  End User   2013-06-09  FRANCE  \n",
       "3            15  End User   2003-02-25  FRANCE  \n",
       "4            10  End User   2009-11-16  FRANCE  "
      ]
     },
     "execution_count": 4,
     "metadata": {},
     "output_type": "execute_result"
    }
   ],
   "source": [
    "# Total Prospects, e.g. Number of rows \n",
    "print 'Total Prospects: ',len(Prospects)\n",
    "\n",
    "#Total Unique Prospects\n",
    "print'Total Unique Prospects: ',len(Prospects.user_id.unique())\n",
    "\n",
    "# First 5 Rows\n",
    "Prospects.head()"
   ]
  },
  {
   "cell_type": "markdown",
   "metadata": {},
   "source": [
    "**Dealing with Prospects Duplicates**"
   ]
  },
  {
   "cell_type": "code",
   "execution_count": 5,
   "metadata": {},
   "outputs": [
    {
     "name": "stdout",
     "output_type": "stream",
     "text": [
      "Before duplicates removal: \n",
      "\n",
      "Total Prospects:  2999\n",
      "Total Unique Prospects:  2995 \n",
      "\n",
      "\n",
      "After duplicates removal:  \n",
      "\n",
      "Total Prospects:  2991\n",
      "Total Unique Prospects:  2991\n"
     ]
    }
   ],
   "source": [
    "# Viewing duplicates user_id's\n",
    "Prospects[Prospects.duplicated(['user_id'], keep=False)].sort_values('user_id')\n",
    "print 'Before duplicates removal:','\\n'\n",
    "\n",
    "# Total Prospects Before removing duplicates, e.g. Number of rows \n",
    "print 'Total Prospects: ',len(Prospects)\n",
    "\n",
    "#Total Unique Prospects Before removing duplicates\n",
    "print'Total Unique Prospects: ',len(Prospects.user_id.unique()),'\\n\\n'\n",
    "\n",
    "# removing duplicates user_id's to prevent misleading information bias\n",
    "duplicatesUsers=Prospects[Prospects.duplicated(['user_id'], keep=False)]['user_id'].unique()\n",
    "Prospects.drop_duplicates(subset='user_id', keep=False, inplace=True)\n",
    "print 'After duplicates removal: ','\\n'\n",
    "\n",
    "# Total Prospects, e.g. Number of rows \n",
    "print 'Total Prospects: ',len(Prospects)\n",
    "\n",
    "#Total Unique Prospects\n",
    "print 'Total Unique Prospects: ',len(Prospects.user_id.unique())"
   ]
  },
  {
   "cell_type": "markdown",
   "metadata": {},
   "source": [
    "** Exploring Sales Table**"
   ]
  },
  {
   "cell_type": "markdown",
   "metadata": {},
   "source": [
    "**Sales table** contains all information about the 2015 sales funnel Columns: \n",
    "- **user_id**: the id of the prospect. Unique by prospect. Can be joined to user_id in the other table \n",
    "- **date_first_contact**: first time company XYZ got in touch with that given prospect \n",
    "- **source**: how company XYZ firstly connected with that given prospect. That is: \n",
    "email marketing, organic search, referral etc. \n",
    "- **linkedin_shared_connections**: number of shared connections on LinkedIn between prospect and company XYZ sale representatives \n",
    "- **online_activity**: a score between 5 and 685 of this prospect’s online activity on groups related to routers on LinkedIn/FB/Twitter. The higher this value, the more active the prospect is on social network discussions about routers  \n",
    "- **did_buy** : binary variable to be used as a label in the model. 0 means no sale, 1 means the prospect bought at least 1 router in 2016."
   ]
  },
  {
   "cell_type": "code",
   "execution_count": 6,
   "metadata": {},
   "outputs": [
    {
     "name": "stdout",
     "output_type": "stream",
     "text": [
      "Total Sales:  2999\n",
      "Total Unique Sales:  2995\n",
      "Total Unique Sales without duplicated Prospects:  2991\n"
     ]
    },
    {
     "data": {
      "text/html": [
       "<div>\n",
       "<style scoped>\n",
       "    .dataframe tbody tr th:only-of-type {\n",
       "        vertical-align: middle;\n",
       "    }\n",
       "\n",
       "    .dataframe tbody tr th {\n",
       "        vertical-align: top;\n",
       "    }\n",
       "\n",
       "    .dataframe thead th {\n",
       "        text-align: right;\n",
       "    }\n",
       "</style>\n",
       "<table border=\"1\" class=\"dataframe\">\n",
       "  <thead>\n",
       "    <tr style=\"text-align: right;\">\n",
       "      <th></th>\n",
       "      <th>user_id</th>\n",
       "      <th>date_first_contact</th>\n",
       "      <th>Original Source Type</th>\n",
       "      <th>linkedin_shared_connections</th>\n",
       "      <th>online_activity</th>\n",
       "      <th>did_buy</th>\n",
       "      <th>sale_date</th>\n",
       "    </tr>\n",
       "  </thead>\n",
       "  <tbody>\n",
       "    <tr>\n",
       "      <th>0</th>\n",
       "      <td>0018000000uEraqAAC</td>\n",
       "      <td>2016-01-09</td>\n",
       "      <td>Referrals</td>\n",
       "      <td>11</td>\n",
       "      <td>65</td>\n",
       "      <td>1</td>\n",
       "      <td>2016-05-23</td>\n",
       "    </tr>\n",
       "    <tr>\n",
       "      <th>1</th>\n",
       "      <td>0018000000qlc1RAAQ</td>\n",
       "      <td>2015-12-21</td>\n",
       "      <td>Social Media</td>\n",
       "      <td>13</td>\n",
       "      <td>65</td>\n",
       "      <td>1</td>\n",
       "      <td>2016-01-12</td>\n",
       "    </tr>\n",
       "    <tr>\n",
       "      <th>2</th>\n",
       "      <td>0018000000uI1MjAAK</td>\n",
       "      <td>2014-10-18</td>\n",
       "      <td>Email Marketing</td>\n",
       "      <td>4</td>\n",
       "      <td>95</td>\n",
       "      <td>1</td>\n",
       "      <td>2016-05-30</td>\n",
       "    </tr>\n",
       "    <tr>\n",
       "      <th>3</th>\n",
       "      <td>0018000000qlsFyAAI</td>\n",
       "      <td>2016-03-31</td>\n",
       "      <td>Organic Search</td>\n",
       "      <td>0</td>\n",
       "      <td>65</td>\n",
       "      <td>1</td>\n",
       "      <td>2016-07-28</td>\n",
       "    </tr>\n",
       "    <tr>\n",
       "      <th>4</th>\n",
       "      <td>0018000000qnZ05AAE</td>\n",
       "      <td>2016-02-05</td>\n",
       "      <td>Other Campaigns</td>\n",
       "      <td>3</td>\n",
       "      <td>65</td>\n",
       "      <td>1</td>\n",
       "      <td>2016-06-17</td>\n",
       "    </tr>\n",
       "  </tbody>\n",
       "</table>\n",
       "</div>"
      ],
      "text/plain": [
       "              user_id date_first_contact  Original Source Type  \\\n",
       "0  0018000000uEraqAAC          2016-01-09            Referrals   \n",
       "1  0018000000qlc1RAAQ          2015-12-21         Social Media   \n",
       "2  0018000000uI1MjAAK          2014-10-18      Email Marketing   \n",
       "3  0018000000qlsFyAAI          2016-03-31       Organic Search   \n",
       "4  0018000000qnZ05AAE          2016-02-05      Other Campaigns   \n",
       "\n",
       "   linkedin_shared_connections  online_activity  did_buy  sale_date  \n",
       "0                           11               65        1 2016-05-23  \n",
       "1                           13               65        1 2016-01-12  \n",
       "2                            4               95        1 2016-05-30  \n",
       "3                            0               65        1 2016-07-28  \n",
       "4                            3               65        1 2016-06-17  "
      ]
     },
     "execution_count": 6,
     "metadata": {},
     "output_type": "execute_result"
    }
   ],
   "source": [
    "# Total Sales, e.g. Number of rows \n",
    "print'Total Sales: ',len(Sales)\n",
    "\n",
    "#Total Unique Sales\n",
    "print'Total Unique Sales: ',len(Sales.user_id.unique()) # Gap because of duplicated Prospects\n",
    "\n",
    "#Total Unique Sales without duplicated Prospects\n",
    "print'Total Unique Sales without duplicated Prospects: ',len(Sales[~Sales['user_id'].isin(duplicatesUsers)])\n",
    "\n",
    "# First 5 Rows\n",
    "Sales.head()"
   ]
  },
  {
   "cell_type": "markdown",
   "metadata": {},
   "source": [
    "** Merging Prospects & Sales**"
   ]
  },
  {
   "cell_type": "markdown",
   "metadata": {},
   "source": [
    "Since we want to build a model to predict if a prospect is going to buy, we will determine the granularity of the new merged table by **Prospects**."
   ]
  },
  {
   "cell_type": "code",
   "execution_count": 7,
   "metadata": {},
   "outputs": [
    {
     "name": "stdout",
     "output_type": "stream",
     "text": [
      "Total Prospects:  2991\n",
      "Total Unique Prospects:  2991\n"
     ]
    },
    {
     "data": {
      "text/html": [
       "<div>\n",
       "<style scoped>\n",
       "    .dataframe tbody tr th:only-of-type {\n",
       "        vertical-align: middle;\n",
       "    }\n",
       "\n",
       "    .dataframe tbody tr th {\n",
       "        vertical-align: top;\n",
       "    }\n",
       "\n",
       "    .dataframe thead th {\n",
       "        text-align: right;\n",
       "    }\n",
       "</style>\n",
       "<table border=\"1\" class=\"dataframe\">\n",
       "  <thead>\n",
       "    <tr style=\"text-align: right;\">\n",
       "      <th></th>\n",
       "      <th>user_id</th>\n",
       "      <th>company_sector</th>\n",
       "      <th>company_size</th>\n",
       "      <th>DMU_final</th>\n",
       "      <th>joining_date</th>\n",
       "      <th>country</th>\n",
       "      <th>date_first_contact</th>\n",
       "      <th>Original Source Type</th>\n",
       "      <th>linkedin_shared_connections</th>\n",
       "      <th>online_activity</th>\n",
       "      <th>did_buy</th>\n",
       "      <th>sale_date</th>\n",
       "    </tr>\n",
       "  </thead>\n",
       "  <tbody>\n",
       "    <tr>\n",
       "      <th>0</th>\n",
       "      <td>0018000000uEraqAAC</td>\n",
       "      <td>Finance and Insurance</td>\n",
       "      <td>10</td>\n",
       "      <td>End User</td>\n",
       "      <td>2010-04-13</td>\n",
       "      <td>FRANCE</td>\n",
       "      <td>2016-01-09</td>\n",
       "      <td>Referrals</td>\n",
       "      <td>11</td>\n",
       "      <td>65</td>\n",
       "      <td>1</td>\n",
       "      <td>2016-05-23</td>\n",
       "    </tr>\n",
       "    <tr>\n",
       "      <th>1</th>\n",
       "      <td>0018000000qlc1RAAQ</td>\n",
       "      <td>Public Administration</td>\n",
       "      <td>1</td>\n",
       "      <td>End User</td>\n",
       "      <td>2004-09-22</td>\n",
       "      <td>FRANCE</td>\n",
       "      <td>2015-12-21</td>\n",
       "      <td>Social Media</td>\n",
       "      <td>13</td>\n",
       "      <td>65</td>\n",
       "      <td>1</td>\n",
       "      <td>2016-01-12</td>\n",
       "    </tr>\n",
       "    <tr>\n",
       "      <th>2</th>\n",
       "      <td>0018000000uI1MjAAK</td>\n",
       "      <td>Professional, Scientific, and Technical Services</td>\n",
       "      <td>10</td>\n",
       "      <td>End User</td>\n",
       "      <td>2013-06-09</td>\n",
       "      <td>FRANCE</td>\n",
       "      <td>2014-10-18</td>\n",
       "      <td>Email Marketing</td>\n",
       "      <td>4</td>\n",
       "      <td>95</td>\n",
       "      <td>1</td>\n",
       "      <td>2016-05-30</td>\n",
       "    </tr>\n",
       "    <tr>\n",
       "      <th>3</th>\n",
       "      <td>0018000000qlsFyAAI</td>\n",
       "      <td>Information</td>\n",
       "      <td>15</td>\n",
       "      <td>End User</td>\n",
       "      <td>2003-02-25</td>\n",
       "      <td>FRANCE</td>\n",
       "      <td>2016-03-31</td>\n",
       "      <td>Organic Search</td>\n",
       "      <td>0</td>\n",
       "      <td>65</td>\n",
       "      <td>1</td>\n",
       "      <td>2016-07-28</td>\n",
       "    </tr>\n",
       "    <tr>\n",
       "      <th>4</th>\n",
       "      <td>0018000000qnZ05AAE</td>\n",
       "      <td>Wholesale Trade</td>\n",
       "      <td>10</td>\n",
       "      <td>End User</td>\n",
       "      <td>2009-11-16</td>\n",
       "      <td>FRANCE</td>\n",
       "      <td>2016-02-05</td>\n",
       "      <td>Other Campaigns</td>\n",
       "      <td>3</td>\n",
       "      <td>65</td>\n",
       "      <td>1</td>\n",
       "      <td>2016-06-17</td>\n",
       "    </tr>\n",
       "  </tbody>\n",
       "</table>\n",
       "</div>"
      ],
      "text/plain": [
       "              user_id                                    company_sector  \\\n",
       "0  0018000000uEraqAAC                             Finance and Insurance   \n",
       "1  0018000000qlc1RAAQ                             Public Administration   \n",
       "2  0018000000uI1MjAAK  Professional, Scientific, and Technical Services   \n",
       "3  0018000000qlsFyAAI                                       Information   \n",
       "4  0018000000qnZ05AAE                                   Wholesale Trade   \n",
       "\n",
       "   company_size DMU_final joining_date country date_first_contact   \\\n",
       "0            10  End User   2010-04-13  FRANCE          2016-01-09   \n",
       "1             1  End User   2004-09-22  FRANCE          2015-12-21   \n",
       "2            10  End User   2013-06-09  FRANCE          2014-10-18   \n",
       "3            15  End User   2003-02-25  FRANCE          2016-03-31   \n",
       "4            10  End User   2009-11-16  FRANCE          2016-02-05   \n",
       "\n",
       "  Original Source Type  linkedin_shared_connections  online_activity  did_buy  \\\n",
       "0            Referrals                           11               65        1   \n",
       "1         Social Media                           13               65        1   \n",
       "2      Email Marketing                            4               95        1   \n",
       "3       Organic Search                            0               65        1   \n",
       "4      Other Campaigns                            3               65        1   \n",
       "\n",
       "   sale_date  \n",
       "0 2016-05-23  \n",
       "1 2016-01-12  \n",
       "2 2016-05-30  \n",
       "3 2016-07-28  \n",
       "4 2016-06-17  "
      ]
     },
     "execution_count": 7,
     "metadata": {},
     "output_type": "execute_result"
    }
   ],
   "source": [
    "# Merging Table by user id\n",
    "fullData=pd.merge(Prospects,Sales, how='inner', on='user_id')\n",
    "\n",
    "# Total Prospects, e.g. Number of rows \n",
    "print'Total Prospects: ',len(fullData)\n",
    "\n",
    "# Total Unique Prospects\n",
    "print'Total Unique Prospects: ',len(fullData.user_id.unique())\n",
    "\n",
    "# First 5 rows\n",
    "fullData.head()"
   ]
  },
  {
   "cell_type": "markdown",
   "metadata": {},
   "source": [
    "** Handeling Missing Values**"
   ]
  },
  {
   "cell_type": "markdown",
   "metadata": {},
   "source": [
    "As we can see below, **Sale Date** has 257 missing values, while the rest haven't. Moreover, we can say that sale date missing values represents the prospects who didn't buy in the past, therefore, we can say that Sale Date has a functional dependency with Did Buy. As a result, Sale Date will be removed."
   ]
  },
  {
   "cell_type": "code",
   "execution_count": 8,
   "metadata": {},
   "outputs": [
    {
     "name": "stdout",
     "output_type": "stream",
     "text": [
      "                             Missing Values\n",
      "user_id                                   0\n",
      "company_sector                            0\n",
      "company_size                              0\n",
      "DMU_final                                 0\n",
      "joining_date                              0\n",
      "country                                   0\n",
      "date_first_contact                        0\n",
      "Original Source Type                      0\n",
      "linkedin_shared_connections               0\n",
      "online_activity                           0\n",
      "did_buy                                   0\n",
      "sale_date                               257\n",
      "\n",
      "Total Null's Values:  257\n"
     ]
    }
   ],
   "source": [
    "# Printing Columns with missing values\n",
    "NullColumns=pd.DataFrame(fullData.isnull().sum(),columns=['Missing Values'])\n",
    "print NullColumns\n",
    "\n",
    "# Print total missing values\n",
    "print'\\n',\"Total Null's Values: \",fullData.isnull().sum().sum()"
   ]
  },
  {
   "cell_type": "markdown",
   "metadata": {},
   "source": [
    "## <font color='darkgreen'>Data Exploration & Preparation</font> ##"
   ]
  },
  {
   "cell_type": "markdown",
   "metadata": {},
   "source": [
    "### Exploring Did Buy (Target)###"
   ]
  },
  {
   "cell_type": "code",
   "execution_count": 9,
   "metadata": {},
   "outputs": [
    {
     "name": "stdout",
     "output_type": "stream",
     "text": [
      "Target Distribution:\n",
      "         user_id\n",
      "did_buy         \n",
      "1           2728\n",
      "0            263 \n",
      "\n",
      "Normalized Target Distribution:\n",
      "     did_buy\n",
      "1  91.206954\n",
      "0   8.793046\n"
     ]
    },
    {
     "data": {
      "image/png": "[encoded data removed]",
      "text/plain": [
       "<Figure size 432x288 with 1 Axes>"
      ]
     },
     "metadata": {},
     "output_type": "display_data"
    }
   ],
   "source": [
    "print'Target Distribution:'\n",
    "TD=fullData.groupby('did_buy').count()\n",
    "targetDist=pd.DataFrame(TD['user_id'].sort_values(ascending=False))\n",
    "print targetDist,'\\n'\n",
    "\n",
    "# Printing Target Distribution Ratio (%)\n",
    "targetRatio=pd.DataFrame(pd.value_counts(fullData['did_buy'])/fullData['did_buy'].count()*100)\n",
    "targetRatio.columns\n",
    "print 'Normalized Target Distribution:'\n",
    "print targetRatio\n",
    "\n",
    "# Plotting Target Variable \n",
    "sns.countplot(x=\"did_buy\", data=fullData, palette=\"Greens_d\")\n",
    "plt.title('Target Variable')\n",
    "plt.xlabel('Did Buy')\n",
    "plt.show()"
   ]
  },
  {
   "cell_type": "markdown",
   "metadata": {},
   "source": [
    "By exploring target variable, we can see above that we are dealing with imbalanced class problem: \n",
    "\n",
    "** - Majority class: '1' : 2728 (91.2%)**\n",
    "\n",
    "** - Minority class: '0' : 263  (8.8 %)**\n",
    "\n",
    "As a result, we should consider some imbalancing data techniques like: Up Sampling, Down Sampling, SMOTE, etc."
   ]
  },
  {
   "cell_type": "markdown",
   "metadata": {},
   "source": [
    "** Exploring Numeric Features**"
   ]
  },
  {
   "cell_type": "markdown",
   "metadata": {},
   "source": [
    "Descriptive Statistics for Company Size, Linkedin Shared Connections & Online Activity. Moreover, a correlogram is added in order to see the interactions and distributions of each one."
   ]
  },
  {
   "cell_type": "code",
   "execution_count": 10,
   "metadata": {},
   "outputs": [
    {
     "data": {
      "text/html": [
       "<div>\n",
       "<style scoped>\n",
       "    .dataframe tbody tr th:only-of-type {\n",
       "        vertical-align: middle;\n",
       "    }\n",
       "\n",
       "    .dataframe tbody tr th {\n",
       "        vertical-align: top;\n",
       "    }\n",
       "\n",
       "    .dataframe thead th {\n",
       "        text-align: right;\n",
       "    }\n",
       "</style>\n",
       "<table border=\"1\" class=\"dataframe\">\n",
       "  <thead>\n",
       "    <tr style=\"text-align: right;\">\n",
       "      <th></th>\n",
       "      <th>company_size</th>\n",
       "      <th>linkedin_shared_connections</th>\n",
       "      <th>online_activity</th>\n",
       "    </tr>\n",
       "  </thead>\n",
       "  <tbody>\n",
       "    <tr>\n",
       "      <th>count</th>\n",
       "      <td>2991.000000</td>\n",
       "      <td>2991.000000</td>\n",
       "      <td>2991.000000</td>\n",
       "    </tr>\n",
       "    <tr>\n",
       "      <th>mean</th>\n",
       "      <td>499.696423</td>\n",
       "      <td>9.423938</td>\n",
       "      <td>53.741224</td>\n",
       "    </tr>\n",
       "    <tr>\n",
       "      <th>std</th>\n",
       "      <td>5903.189696</td>\n",
       "      <td>6.432527</td>\n",
       "      <td>64.601391</td>\n",
       "    </tr>\n",
       "    <tr>\n",
       "      <th>min</th>\n",
       "      <td>0.000000</td>\n",
       "      <td>0.000000</td>\n",
       "      <td>5.000000</td>\n",
       "    </tr>\n",
       "    <tr>\n",
       "      <th>25%</th>\n",
       "      <td>6.000000</td>\n",
       "      <td>4.000000</td>\n",
       "      <td>15.000000</td>\n",
       "    </tr>\n",
       "    <tr>\n",
       "      <th>50%</th>\n",
       "      <td>22.000000</td>\n",
       "      <td>9.000000</td>\n",
       "      <td>40.000000</td>\n",
       "    </tr>\n",
       "    <tr>\n",
       "      <th>75%</th>\n",
       "      <td>93.000000</td>\n",
       "      <td>14.000000</td>\n",
       "      <td>70.000000</td>\n",
       "    </tr>\n",
       "    <tr>\n",
       "      <th>max</th>\n",
       "      <td>135300.000000</td>\n",
       "      <td>38.000000</td>\n",
       "      <td>685.000000</td>\n",
       "    </tr>\n",
       "  </tbody>\n",
       "</table>\n",
       "</div>"
      ],
      "text/plain": [
       "        company_size  linkedin_shared_connections  online_activity\n",
       "count    2991.000000                  2991.000000      2991.000000\n",
       "mean      499.696423                     9.423938        53.741224\n",
       "std      5903.189696                     6.432527        64.601391\n",
       "min         0.000000                     0.000000         5.000000\n",
       "25%         6.000000                     4.000000        15.000000\n",
       "50%        22.000000                     9.000000        40.000000\n",
       "75%        93.000000                    14.000000        70.000000\n",
       "max    135300.000000                    38.000000       685.000000"
      ]
     },
     "execution_count": 10,
     "metadata": {},
     "output_type": "execute_result"
    }
   ],
   "source": [
    "# Descriptive Statistics for Company Size, Linkedin Shared Connections & Online Activity\n",
    "fullData[['company_size','linkedin_shared_connections','online_activity']].describe()"
   ]
  },
  {
   "cell_type": "markdown",
   "metadata": {},
   "source": [
    "** Correlation Matrix on numeric features only**"
   ]
  },
  {
   "cell_type": "code",
   "execution_count": 11,
   "metadata": {},
   "outputs": [
    {
     "data": {
      "image/png": "[encoded data removed]",
      "text/plain": [
       "<Figure size 432x288 with 2 Axes>"
      ]
     },
     "metadata": {},
     "output_type": "display_data"
    }
   ],
   "source": [
    "#Calculating correlation on numeric features\n",
    "corr = fullData.corr()\n",
    "\n",
    "# Generate a custom diverging colormap\n",
    "cmap = sns.diverging_palette(220, 10, as_cmap=True)\n",
    "\n",
    "#Plot Correlation Matrix\n",
    "sns.heatmap(corr, xticklabels=corr.columns,yticklabels=corr.columns, cmap=cmap)\n",
    "plt.title('Features Correlation Matrix')\n",
    "plt.show()"
   ]
  },
  {
   "cell_type": "markdown",
   "metadata": {},
   "source": [
    "On the correlation matrix above, we can see that are around 20% positive correlation between Company Size and Did Buy, Linkedin Shared Connections and Online Activity and last, Online Activity and Did Buy. Therefore, we can assume the following:\n",
    "\n",
    "\n",
    "1. **Company Size** <font color=blue>$\\uparrow$</font>  $\\rightarrow$ **Probability to buy** <font color=blue>$\\uparrow$</font>\n",
    "2. **Online Activity**<font color=blue> $\\uparrow$ </font>  $\\rightarrow$ **Linkedin Shared Connections**<font color=blue> $\\uparrow$</font>\n",
    "3. **Online Activity** <font color=blue> $\\uparrow$ </font> $\\rightarrow$ **Probability to buy** <font color=blue>$\\uparrow$</font>\n"
   ]
  },
  {
   "cell_type": "markdown",
   "metadata": {},
   "source": [
    "### Data Preparation###"
   ]
  },
  {
   "cell_type": "markdown",
   "metadata": {},
   "source": [
    "Some of the features aren't relevant or not defined in a suitable way for training phase. As a result, some methods needed to be considered in order to make features more useful. Therefore, I used transformation, casting and encoding. In addition, I removed some of the features after transformation step. "
   ]
  },
  {
   "cell_type": "code",
   "execution_count": 12,
   "metadata": {},
   "outputs": [
    {
     "name": "stdout",
     "output_type": "stream",
     "text": [
      "Features Data Types:\n"
     ]
    },
    {
     "data": {
      "text/plain": [
       "user_id                                object\n",
       "company_sector                         object\n",
       "company_size                            int64\n",
       "DMU_final                              object\n",
       "joining_date                   datetime64[ns]\n",
       "country                                object\n",
       "date_first_contact             datetime64[ns]\n",
       "Original Source Type                   object\n",
       "linkedin_shared_connections             int64\n",
       "online_activity                         int64\n",
       "did_buy                                 int64\n",
       "sale_date                      datetime64[ns]\n",
       "dtype: object"
      ]
     },
     "execution_count": 12,
     "metadata": {},
     "output_type": "execute_result"
    }
   ],
   "source": [
    "# Current data types status\n",
    "print'Features Data Types:'\n",
    "fullData.dtypes"
   ]
  },
  {
   "cell_type": "markdown",
   "metadata": {},
   "source": [
    "**Feature Engineering**"
   ]
  },
  {
   "cell_type": "code",
   "execution_count": 13,
   "metadata": {},
   "outputs": [
    {
     "name": "stdout",
     "output_type": "stream",
     "text": [
      "Feature Types before transformation:  \n",
      "user_id                                object\n",
      "company_sector                         object\n",
      "company_size                            int64\n",
      "DMU_final                              object\n",
      "joining_date                   datetime64[ns]\n",
      "country                                object\n",
      "date_first_contact             datetime64[ns]\n",
      "Original Source Type                   object\n",
      "linkedin_shared_connections             int64\n",
      "online_activity                         int64\n",
      "did_buy                                 int64\n",
      "sale_date                      datetime64[ns]\n",
      "dtype: object \n",
      "\n",
      "Feature Types after transformation:  \n",
      "user_id                                object\n",
      "company_sector                          int32\n",
      "company_size                            int64\n",
      "DMU_final                               int32\n",
      "joining_date                   datetime64[ns]\n",
      "country                                 int32\n",
      "date_first_contact             datetime64[ns]\n",
      "Original Source Type                    int32\n",
      "linkedin_shared_connections             int64\n",
      "online_activity                         int64\n",
      "did_buy                                 int64\n",
      "sale_date                      datetime64[ns]\n",
      "joining_year                            int64\n",
      "joining_month                           int64\n",
      "joining_day                             int64\n",
      "year_first_contact                      int64\n",
      "month_first_contact                     int64\n",
      "day_first_contact                       int64\n",
      "dtype: object \n",
      "\n",
      "Cleansed Data Size:  2991\n"
     ]
    },
    {
     "data": {
      "text/html": [
       "<div>\n",
       "<style scoped>\n",
       "    .dataframe tbody tr th:only-of-type {\n",
       "        vertical-align: middle;\n",
       "    }\n",
       "\n",
       "    .dataframe tbody tr th {\n",
       "        vertical-align: top;\n",
       "    }\n",
       "\n",
       "    .dataframe thead th {\n",
       "        text-align: right;\n",
       "    }\n",
       "</style>\n",
       "<table border=\"1\" class=\"dataframe\">\n",
       "  <thead>\n",
       "    <tr style=\"text-align: right;\">\n",
       "      <th></th>\n",
       "      <th>user_id</th>\n",
       "      <th>company_sector</th>\n",
       "      <th>company_size</th>\n",
       "      <th>DMU_final</th>\n",
       "      <th>country</th>\n",
       "      <th>Original Source Type</th>\n",
       "      <th>linkedin_shared_connections</th>\n",
       "      <th>online_activity</th>\n",
       "      <th>did_buy</th>\n",
       "      <th>joining_year</th>\n",
       "      <th>joining_month</th>\n",
       "      <th>joining_day</th>\n",
       "      <th>year_first_contact</th>\n",
       "      <th>month_first_contact</th>\n",
       "      <th>day_first_contact</th>\n",
       "    </tr>\n",
       "  </thead>\n",
       "  <tbody>\n",
       "    <tr>\n",
       "      <th>0</th>\n",
       "      <td>0018000000uEraqAAC</td>\n",
       "      <td>0</td>\n",
       "      <td>10</td>\n",
       "      <td>0</td>\n",
       "      <td>1</td>\n",
       "      <td>0</td>\n",
       "      <td>11</td>\n",
       "      <td>65</td>\n",
       "      <td>1</td>\n",
       "      <td>2010</td>\n",
       "      <td>4</td>\n",
       "      <td>13</td>\n",
       "      <td>2016</td>\n",
       "      <td>1</td>\n",
       "      <td>9</td>\n",
       "    </tr>\n",
       "    <tr>\n",
       "      <th>1</th>\n",
       "      <td>0018000000qlc1RAAQ</td>\n",
       "      <td>0</td>\n",
       "      <td>1</td>\n",
       "      <td>0</td>\n",
       "      <td>1</td>\n",
       "      <td>0</td>\n",
       "      <td>13</td>\n",
       "      <td>65</td>\n",
       "      <td>1</td>\n",
       "      <td>2004</td>\n",
       "      <td>9</td>\n",
       "      <td>22</td>\n",
       "      <td>2015</td>\n",
       "      <td>12</td>\n",
       "      <td>21</td>\n",
       "    </tr>\n",
       "    <tr>\n",
       "      <th>2</th>\n",
       "      <td>0018000000uI1MjAAK</td>\n",
       "      <td>0</td>\n",
       "      <td>10</td>\n",
       "      <td>0</td>\n",
       "      <td>1</td>\n",
       "      <td>1</td>\n",
       "      <td>4</td>\n",
       "      <td>95</td>\n",
       "      <td>1</td>\n",
       "      <td>2013</td>\n",
       "      <td>6</td>\n",
       "      <td>9</td>\n",
       "      <td>2014</td>\n",
       "      <td>10</td>\n",
       "      <td>18</td>\n",
       "    </tr>\n",
       "    <tr>\n",
       "      <th>3</th>\n",
       "      <td>0018000000qlsFyAAI</td>\n",
       "      <td>0</td>\n",
       "      <td>15</td>\n",
       "      <td>0</td>\n",
       "      <td>1</td>\n",
       "      <td>0</td>\n",
       "      <td>0</td>\n",
       "      <td>65</td>\n",
       "      <td>1</td>\n",
       "      <td>2003</td>\n",
       "      <td>2</td>\n",
       "      <td>25</td>\n",
       "      <td>2016</td>\n",
       "      <td>3</td>\n",
       "      <td>31</td>\n",
       "    </tr>\n",
       "    <tr>\n",
       "      <th>4</th>\n",
       "      <td>0018000000qnZ05AAE</td>\n",
       "      <td>0</td>\n",
       "      <td>10</td>\n",
       "      <td>0</td>\n",
       "      <td>1</td>\n",
       "      <td>0</td>\n",
       "      <td>3</td>\n",
       "      <td>65</td>\n",
       "      <td>1</td>\n",
       "      <td>2009</td>\n",
       "      <td>11</td>\n",
       "      <td>16</td>\n",
       "      <td>2016</td>\n",
       "      <td>2</td>\n",
       "      <td>5</td>\n",
       "    </tr>\n",
       "  </tbody>\n",
       "</table>\n",
       "</div>"
      ],
      "text/plain": [
       "              user_id  company_sector  company_size  DMU_final  country  \\\n",
       "0  0018000000uEraqAAC               0            10          0        1   \n",
       "1  0018000000qlc1RAAQ               0             1          0        1   \n",
       "2  0018000000uI1MjAAK               0            10          0        1   \n",
       "3  0018000000qlsFyAAI               0            15          0        1   \n",
       "4  0018000000qnZ05AAE               0            10          0        1   \n",
       "\n",
       "   Original Source Type  linkedin_shared_connections  online_activity  \\\n",
       "0                     0                           11               65   \n",
       "1                     0                           13               65   \n",
       "2                     1                            4               95   \n",
       "3                     0                            0               65   \n",
       "4                     0                            3               65   \n",
       "\n",
       "   did_buy  joining_year  joining_month  joining_day  year_first_contact   \\\n",
       "0        1          2010              4           13                 2016   \n",
       "1        1          2004              9           22                 2015   \n",
       "2        1          2013              6            9                 2014   \n",
       "3        1          2003              2           25                 2016   \n",
       "4        1          2009             11           16                 2016   \n",
       "\n",
       "   month_first_contact   day_first_contact   \n",
       "0                     1                   9  \n",
       "1                    12                  21  \n",
       "2                    10                  18  \n",
       "3                     3                  31  \n",
       "4                     2                   5  "
      ]
     },
     "execution_count": 13,
     "metadata": {},
     "output_type": "execute_result"
    }
   ],
   "source": [
    "from sklearn import preprocessing\n",
    "\n",
    "# Transformed Data Creation\n",
    "transformedData=fullData\n",
    "print'Feature Types before transformation: ','\\n',transformedData.dtypes,'\\n'\n",
    "\n",
    "# Casting Catagorical Features & Target using One-hot encoding\n",
    "categoricalFeatures=['company_sector','DMU_final','country','Original Source Type']\n",
    "for column in categoricalFeatures:\n",
    "    \n",
    "    # Cast to categorical\n",
    "    transformedData[column] = transformedData[column].astype('category') \n",
    "    \n",
    "    # Create one-hot encoder\n",
    "    one_hot = preprocessing.LabelBinarizer()\n",
    "        \n",
    "    # One-hot encode feature\n",
    "    transformedData[column] =  one_hot.fit_transform(transformedData[column])\n",
    "\n",
    "\n",
    "# transforming columns:\n",
    "\n",
    "# Joining Date is splited by year, month & day\n",
    "transformedData['joining_year'] = transformedData['joining_date'].dt.year\n",
    "transformedData['joining_month'] = transformedData['joining_date'].dt.month\n",
    "transformedData['joining_day'] = transformedData['joining_date'].dt.day\n",
    "\n",
    "# Date First Contact is splited by year, month & day\n",
    "transformedData['year_first_contact '] = transformedData['date_first_contact '].dt.year\n",
    "transformedData['month_first_contact '] = transformedData['date_first_contact '].dt.month\n",
    "transformedData['day_first_contact '] = transformedData['date_first_contact '].dt.day\n",
    "\n",
    "#Viewing Current Data State & Types\n",
    "transformedData.head()\n",
    "print'Feature Types after transformation: ','\\n',transformedData.dtypes,'\\n'\n",
    "\n",
    "\n",
    "# Removing columns: user_id, joining_date, day_first_contact, sale_date\n",
    "cleansedData=transformedData.drop(['joining_date','date_first_contact ','sale_date'], axis=1)\n",
    "print'Cleansed Data Size: ',len(cleansedData.index)\n",
    "\n",
    "# Viewing cleansed data first 5 rows\n",
    "cleansedData.head()"
   ]
  },
  {
   "cell_type": "markdown",
   "metadata": {},
   "source": [
    "We can see at the correlogram below that Linkedin shared Connections distribution looks similar to the Normal Distribution but, without left tale. However, Company Size and Online Activity are asymmetrical and right tailed. Moreover, by looking on the interaction between Company Size and Online Activity, we can notice that for prospects who belongs to companies with large number of employees have less online activity."
   ]
  },
  {
   "cell_type": "code",
   "execution_count": 14,
   "metadata": {
    "scrolled": true
   },
   "outputs": [
    {
     "data": {
      "image/png": "[encoded data removed]",
      "text/plain": [
       "<Figure size 540x540 with 12 Axes>"
      ]
     },
     "metadata": {},
     "output_type": "display_data"
    }
   ],
   "source": [
    "# Basic correlogram\n",
    "sns.set(style=\"whitegrid\", palette=\"muted\")\n",
    "sns.pairplot(cleansedData[['linkedin_shared_connections', 'company_size', 'online_activity']])\n",
    "plt.show()"
   ]
  },
  {
   "cell_type": "markdown",
   "metadata": {},
   "source": [
    "**Features Normalization**"
   ]
  },
  {
   "cell_type": "code",
   "execution_count": 15,
   "metadata": {},
   "outputs": [],
   "source": [
    "# Removing User ID from features\n",
    "finalData=pd.DataFrame(cleansedData.drop('user_id', axis=1))\n",
    "Features=finalData\n",
    "\n",
    "# Preparing features for scaling\n",
    "preScale=pd.DataFrame(Features.drop(['online_activity','DMU_final','company_size',\n",
    "                                     'company_sector','country','Original Source Type','did_buy'], axis=1))\n",
    "\n",
    "# Create standardizer\n",
    "min_max_scaler = sk.preprocessing.MinMaxScaler()\n",
    "\n",
    "# Feature Normalization \n",
    "Features_scaling = min_max_scaler.fit_transform(preScale)\n",
    "Scaled_Features=pd.DataFrame(Features_scaling,columns=preScale.columns)\n",
    "Scaled_Features['did_buy']=finalData.did_buy\n",
    "df = pd.DataFrame(Scaled_Features)"
   ]
  },
  {
   "cell_type": "markdown",
   "metadata": {},
   "source": [
    "### Features Exploration ###"
   ]
  },
  {
   "cell_type": "markdown",
   "metadata": {},
   "source": [
    "#### Characteristics of High Intent vs. Low Intent Prospects####"
   ]
  },
  {
   "cell_type": "markdown",
   "metadata": {},
   "source": [
    "**Online Activity** distributed by prospects who bought in the past and prospects that didn't, represented by Boxplot. We can see that median online activity value is little bit lower among prospects whou bought in the past. However, we can notice that there are much more outliers among prospects who bought in the past and therefore, the average of prospects whou bought in the past is slightly bigger than the rest because it's more sensitive to ouliers."
   ]
  },
  {
   "cell_type": "code",
   "execution_count": 16,
   "metadata": {
    "scrolled": true
   },
   "outputs": [
    {
     "data": {
      "image/png": "[encoded data removed]",
      "text/plain": [
       "<Figure size 432x288 with 1 Axes>"
      ]
     },
     "metadata": {},
     "output_type": "display_data"
    }
   ],
   "source": [
    "OA_bplot=sns.boxplot(y='online_activity', x='did_buy', \n",
    "                 data=Features, \n",
    "                 width=0.5,\n",
    "                 palette=\"colorblind\")\n",
    "plt.title('Online Activity Compared by Prospects')\n",
    "plt.show()"
   ]
  },
  {
   "cell_type": "markdown",
   "metadata": {},
   "source": [
    "**Radar Charts** \n",
    "\n",
    "Are used for displaying multivariate data in the form of n-dimensional quantitative variables represented on axes, and starting from the same point('Normalized'). While looking on the Radar Chart above, means of<font color=green> prospects who bought in the past</font> are compared to means of<font color=blue> prospects who didn't buy</font> by few quantitive features."
   ]
  },
  {
   "cell_type": "code",
   "execution_count": 17,
   "metadata": {},
   "outputs": [
    {
     "data": {
      "image/png": "[encoded data removed]",
      "text/plain": [
       "<Figure size 432x288 with 1 Axes>"
      ]
     },
     "metadata": {},
     "output_type": "display_data"
    }
   ],
   "source": [
    "# Libraries\n",
    "from math import pi\n",
    "\n",
    "# number of variable\n",
    "categories=list(df)[:7]\n",
    "N = len(categories)\n",
    "\n",
    "# Create background\n",
    "\n",
    "# What will be the angle of each axis in the plot? (we divide the plot / number of variable)\n",
    "angles = [n / float(N) * 2 * pi for n in range(N)]\n",
    "angles += angles[:1]\n",
    " \n",
    "# Initialise the spider plot\n",
    "ax = plt.subplot(111, polar=True)\n",
    " \n",
    "# If you want the first axis to be on top:\n",
    "ax.set_theta_offset(pi / 2)\n",
    "ax.set_theta_direction(-1)\n",
    " \n",
    "# Draw one axe per variable + add labels labels yet\n",
    "plt.xticks(angles[:-1], categories)\n",
    " \n",
    "# Draw ylabels\n",
    "ax.set_rlabel_position(0)\n",
    "plt.yticks([0,0.5,1], [\"0\",\"0.5\",\"1\"], color=\"grey\", size=7)\n",
    "plt.ylim(0,1)\n",
    "\n",
    " \n",
    "# Add plots\n",
    " \n",
    "# Separate prospects who bought and didn't. Calculating each population average \n",
    "Did_Buy = df[df.did_buy==1].mean()\n",
    "Did_Not_Buy = df[df.did_buy==0].mean()\n",
    "\n",
    "\n",
    "# Didn't Buy blanket\n",
    "values=Did_Not_Buy.drop('did_buy').values.flatten().tolist()\n",
    "values += values[:1]\n",
    "ax.plot(angles, values, linewidth=1, linestyle='solid', label=\"Didn't Buy (0)\")\n",
    "ax.fill(angles, values, 'blue', alpha=0.1)\n",
    " \n",
    "# Did Buy blanket\n",
    "values=Did_Buy.drop('did_buy').values.flatten().tolist()\n",
    "values += values[:1]\n",
    "ax.plot(angles, values, linewidth=1, linestyle='solid', label=\"Did Buy (1)\")\n",
    "ax.fill(angles, values, 'green', alpha=0.1)\n",
    " \n",
    "# Add legend\n",
    "plt.legend(loc='best', bbox_to_anchor=(-0.05, 1.08))\n",
    "plt.title('Radar chart with several individuals',loc='center')\n",
    "plt.show()"
   ]
  },
  {
   "cell_type": "markdown",
   "metadata": {},
   "source": [
    "While looking on both sampled groups we can see that blankets are almost the same. However, we can conclude the following;\n",
    "\n",
    "1. Joining month and first contact year means are almost identical between groups. \n",
    "2. Linkedin share connections and Joining year means are little bit higher among <font color=blue> prospects who didn't buy </font> in the past.\n",
    "3. First contact month, First contact day and Joining day means are little bit higher among <font color=green> prospects who bought </font> in the past.\n",
    "\n",
    "However, in order to perform a more qualitative and accurate comparison between the two groups based on their features, statistical tests between the two populations were conduct for each quantitative feature. Moreover, we used these following tests (considering significance level of 5%) :\n",
    "\n",
    "\n",
    "1. **The independent samples t test** - Compare the means of two sets of data under some assumptions:\n",
    "     \n",
    "    <p>&nbsp; &nbsp; 1.1 **Assumption of Independence**: two independent, categorical groups that represent your independent variable. </p> \n",
    "    <p>&nbsp; &nbsp; 1.2 **Assumption of normality**: the dependent variable should be approximately normally distributed and also be measured on a continuous scale. </p>\n",
    "    <p>&nbsp; &nbsp; 1.3 **Assumption of Homogeneity of Variance**: The variances of the dependent variable should be equal.</p> \n",
    "</p>\n",
    "<p>&nbsp; &nbsp; \n",
    "2. **The Mann–Whitney U test** - A nonparametric test of the null hypothesis that it is equally likely that a randomly selected value from one sample will be less than or greater than a randomly selected value from a second sample. Unlike the t-test it does not require the assumption of normal distributions. <p>"
   ]
  },
  {
   "cell_type": "code",
   "execution_count": 18,
   "metadata": {},
   "outputs": [
    {
     "name": "stdout",
     "output_type": "stream",
     "text": [
      "company_size : Did buy mean > Did not buy mean \n",
      "\n",
      "The results of the independent t-test are: \n",
      "\tt-value = 0.596\n",
      "\tp-value = 0.551\n",
      "The difference between groups is 227.120 [-520.302 to 974.541] (mean [95% CI]) \n",
      "\n",
      "The results of the Mann–Whitney (Wilcoxon rank-sum) test are: \n",
      "\tU-value = 2.361\n",
      "\tp-value = 0.018 \n",
      "\n",
      "\n",
      "linkedin_shared_connections : Did not buy mean > Did buy mean \n",
      "\n",
      "The results of the independent t-test are: \n",
      "\tt-value = 1.149\n",
      "\tp-value = 0.250\n",
      "The difference between groups is 0.477 [-0.337 to 1.292] (mean [95% CI]) \n",
      "\n",
      "The results of the Mann–Whitney (Wilcoxon rank-sum) test are: \n",
      "\tU-value = 1.112\n",
      "\tp-value = 0.266 \n",
      "\n",
      "\n",
      "online_activity : Did buy mean > Did not buy mean \n",
      "\n",
      "The results of the independent t-test are: \n",
      "\tt-value = 0.704\n",
      "\tp-value = 0.482\n",
      "The difference between groups is 2.935 [-5.245 to 11.114] (mean [95% CI]) \n",
      "\n",
      "The results of the Mann–Whitney (Wilcoxon rank-sum) test are: \n",
      "\tU-value = -0.484\n",
      "\tp-value = 0.628 \n",
      "\n",
      "\n",
      "joining_year : Did not buy mean > Did buy mean \n",
      "\n",
      "The results of the independent t-test are: \n",
      "\tt-value = 1.048\n",
      "\tp-value = 0.295\n",
      "The difference between groups is 0.293 [-0.255 to 0.841] (mean [95% CI]) \n",
      "\n",
      "The results of the Mann–Whitney (Wilcoxon rank-sum) test are: \n",
      "\tU-value = 1.046\n",
      "\tp-value = 0.296 \n",
      "\n",
      "\n",
      "joining_month : Did not buy mean > Did buy mean \n",
      "\n",
      "The results of the independent t-test are: \n",
      "\tt-value = 0.176\n",
      "\tp-value = 0.860\n",
      "The difference between groups is 0.039 [-0.397 to 0.475] (mean [95% CI]) \n",
      "\n",
      "The results of the Mann–Whitney (Wilcoxon rank-sum) test are: \n",
      "\tU-value = 0.188\n",
      "\tp-value = 0.851 \n",
      "\n",
      "\n",
      "joining_day : Did buy mean > Did not buy mean \n",
      "\n",
      "The results of the independent t-test are: \n",
      "\tt-value = 0.757\n",
      "\tp-value = 0.449\n",
      "The difference between groups is 0.420 [-0.668 to 1.509] (mean [95% CI]) \n",
      "\n",
      "The results of the Mann–Whitney (Wilcoxon rank-sum) test are: \n",
      "\tU-value = 0.788\n",
      "\tp-value = 0.431 \n",
      "\n",
      "\n",
      "year_first_contact  : Did not buy mean > Did buy mean \n",
      "\n",
      "The results of the independent t-test are: \n",
      "\tt-value = 0.335\n",
      "\tp-value = 0.738\n",
      "The difference between groups is 0.015 [-0.071 to 0.100] (mean [95% CI]) \n",
      "\n",
      "The results of the Mann–Whitney (Wilcoxon rank-sum) test are: \n",
      "\tU-value = 0.219\n",
      "\tp-value = 0.827 \n",
      "\n",
      "\n",
      "month_first_contact  : Did buy mean > Did not buy mean \n",
      "\n",
      "The results of the independent t-test are: \n",
      "\tt-value = 1.094\n",
      "\tp-value = 0.274\n",
      "The difference between groups is 0.241 [-0.191 to 0.672] (mean [95% CI]) \n",
      "\n",
      "The results of the Mann–Whitney (Wilcoxon rank-sum) test are: \n",
      "\tU-value = 1.097\n",
      "\tp-value = 0.273 \n",
      "\n",
      "\n",
      "day_first_contact  : Did buy mean > Did not buy mean \n",
      "\n",
      "The results of the independent t-test are: \n",
      "\tt-value = 1.292\n",
      "\tp-value = 0.196\n",
      "The difference between groups is 0.734 [-0.380 to 1.847] (mean [95% CI]) \n",
      "\n",
      "The results of the Mann–Whitney (Wilcoxon rank-sum) test are: \n",
      "\tU-value = 1.279\n",
      "\tp-value = 0.201 \n",
      "\n",
      "\n"
     ]
    }
   ],
   "source": [
    "from scipy import stats\n",
    "from math import sqrt\n",
    "from scipy.stats import t\n",
    "\n",
    "# Preparing data for t independent \n",
    "df = pd.DataFrame(Features.drop(['DMU_final','company_sector','country','Original Source Type'], axis=1))\n",
    "\n",
    "# Split data by Did buy\n",
    "Did_Buy = df[df.did_buy==1].drop('did_buy',axis=1)\n",
    "Did_Not_Buy = df[df.did_buy==0].drop('did_buy',axis=1)\n",
    "\n",
    "# for each quantitive column run statistical tests\n",
    "for column in Did_Buy.columns:\n",
    "    if Did_Buy[column].mean()>Did_Not_Buy[column].mean():\n",
    "        \n",
    "        print column,': Did buy mean > Did not buy mean','\\n'\n",
    "        \n",
    "        # Run independent t-test \n",
    "        ind_t_test = stats.ttest_ind(Did_Buy[column],Did_Not_Buy[column])\n",
    "        diff_mean = Did_Buy[column].mean() - Did_Not_Buy[column].mean()\n",
    "        \n",
    "        # Run Mann–Whitney U test\n",
    "        ind_sign_test=stats.ranksums(Did_Buy[column],Did_Not_Buy[column])\n",
    "        \n",
    "    else: \n",
    "        \n",
    "        print column,': Did not buy mean > Did buy mean','\\n'\n",
    "        \n",
    "        # Run independent t-test\n",
    "        ind_t_test = stats.ttest_ind(Did_Not_Buy[column],Did_Buy[column])\n",
    "        diff_mean = Did_Not_Buy[column].mean() - Did_Buy[column].mean()\n",
    "        \n",
    "        # Run Mann–Whitney U test\n",
    "        ind_sign_test=stats.ranksums(Did_Not_Buy[column],Did_Buy[column])\n",
    "\n",
    "    # Calculate the mean difference and 95% confidence interval\n",
    "    N_Did = len(Did_Buy[column])\n",
    "    N_Didnt = len(Did_Not_Buy[column])\n",
    "    DOF = (N_Did + N_Didnt - 2)\n",
    "    std_Did = Did_Buy[column].std()\n",
    "    std_Didnt = Did_Not_Buy[column].std()\n",
    "    std_N1N2 = sqrt(((N_Did - 1)*(std_Did)**2 +(N_Didnt - 1)*(std_Didnt)**2) / DOF) \n",
    "\n",
    "    \n",
    "    # Calculate Mean of Error\n",
    "    MoE = float(stats.t.ppf(0.975, DOF) * std_N1N2 * float(sqrt(1/float(N_Did) + 1/float(N_Didnt))))\n",
    "    \n",
    "\n",
    "    #CI\n",
    "    LB = float(diff_mean - MoE)\n",
    "    UB= diff_mean + MoE\n",
    "    \n",
    "    print 'The results of the independent t-test are: \\n\\tt-value = {:4.3f}\\n\\tp-value = {:4.3f}'.format(ind_t_test[0],ind_t_test[1])\n",
    "    print 'The difference between groups is {:.3f} [{:.3f} to {:.3f}] (mean [95% CI])'.format(diff_mean, LB , UB),'\\n'\n",
    "    print 'The results of the Mann–Whitney (Wilcoxon rank-sum) test are: \\n\\tU-value = {:.3f}\\n\\tp-value = {:.3f}'.format(ind_sign_test[0],ind_sign_test[1]),'\\n\\n'"
   ]
  },
  {
   "cell_type": "markdown",
   "metadata": {},
   "source": [
    "By viewing the above statistics results, we can see that there aren't enough observations to reject the null hypotesis with significance level of 5%, However, we have enough observations to reject the null hypotesis and conclude that **Company Size mean among prospects who bought in the past is higher** then prospects who didn't buy, with significance level of 5%.\n",
    "\n",
    "\n",
    "**Company Size :**\n",
    "\\begin{align}\n",
    "\\bar{X}_{Did Bought} > \\bar{X}_{Did Not Buy}\\quad (\\alpha = 5\\%)\n",
    "\\end{align}\n",
    "\n",
    "\n",
    "The results of the Wilcoxon rank-sum test ($\\alpha$ = 0.05) are: \n",
    "- U-value = 2.361\n",
    "- p-value = 0.018 \n",
    "    "
   ]
  },
  {
   "cell_type": "markdown",
   "metadata": {},
   "source": [
    "**Splitting to Test and Train Datasets**"
   ]
  },
  {
   "cell_type": "code",
   "execution_count": 19,
   "metadata": {
    "scrolled": true
   },
   "outputs": [
    {
     "name": "stdout",
     "output_type": "stream",
     "text": [
      "Training Set Dimensions: \n",
      "X =  (2392, 13)  Y =  (2392L,) \n",
      "\n",
      "Test Set Dimensions: \n",
      "X =  (599, 13)  Y =  (599L,) \n",
      "\n",
      "Train Target Distribution \n",
      "\n",
      "1    2179\n",
      "0     213\n",
      "Name: did_buy, dtype: int64 \n",
      "\n",
      "Test Target Distribution \n",
      "\n",
      "1    549\n",
      "0     50\n",
      "Name: did_buy, dtype: int64\n"
     ]
    }
   ],
   "source": [
    "from sklearn import model_selection\n",
    "#Splitting to Test and Train Data\n",
    "X_train, X_test, y_train, y_test = model_selection.train_test_split(finalData.loc[:, finalData.columns != 'did_buy'],\n",
    "                                                                       finalData['did_buy'], test_size=0.2,random_state=42) \n",
    "# Printing Dimensions                                                                    \n",
    "print 'Training Set Dimensions:','\\n','X = ',X_train.shape,' Y = ', y_train.shape,'\\n'\n",
    "print 'Test Set Dimensions:','\\n','X = ',X_test.shape,' Y = ', y_test.shape,'\\n'\n",
    "\n",
    "print'Train Target Distribution','\\n'\n",
    "print y_train.value_counts(),'\\n'\n",
    "\n",
    "print 'Test Target Distribution','\\n'\n",
    "print y_test.value_counts()"
   ]
  },
  {
   "cell_type": "markdown",
   "metadata": {},
   "source": [
    "## <font color='darkgreen'>Modeling & Evaluation</font> ##\n"
   ]
  },
  {
   "cell_type": "markdown",
   "metadata": {},
   "source": [
    "Since we are dealing with classification problem of binary target variable (Did buy) and moreover, features are numeric, integers, and categorical. Therefore, algorithms like Logistic Regression, Random Forest, KNN, etc. can be useful here. \n",
    "\n",
    "At the cell below, **Logitic Regression, Decision Trees, KNN, Naïve Bayes, SVM & Neural Net **are being compared by a cross validation procedure with Area Under Curve scoring metric."
   ]
  },
  {
   "cell_type": "code",
   "execution_count": 20,
   "metadata": {},
   "outputs": [
    {
     "name": "stdout",
     "output_type": "stream",
     "text": [
      "LR: Accuracy: 0.910961 (std: 0.015725)\n",
      "KNN: Accuracy: 0.903431 (std: 0.016127)\n",
      "CART: Accuracy: 0.836104 (std: 0.021417)\n",
      "NB: Accuracy: 0.854533 (std: 0.026267)\n",
      "SVM: Accuracy: 0.910961 (std: 0.015725)\n",
      "Neural Net: Accuracy: 0.897592 (std: 0.027938)\n"
     ]
    },
    {
     "data": {
      "image/png": "[encoded data removed]",
      "text/plain": [
       "<Figure size 432x288 with 1 Axes>"
      ]
     },
     "metadata": {},
     "output_type": "display_data"
    }
   ],
   "source": [
    "# Different Algorithms\n",
    "from sklearn.linear_model import LogisticRegression\n",
    "from sklearn.tree import DecisionTreeClassifier\n",
    "from sklearn.neighbors import KNeighborsClassifier\n",
    "from sklearn.discriminant_analysis import LinearDiscriminantAnalysis\n",
    "from sklearn.naive_bayes import GaussianNB\n",
    "from sklearn.svm import SVC\n",
    "from sklearn.ensemble import RandomForestRegressor\n",
    "from sklearn.linear_model import SGDClassifier\n",
    "from sklearn.neural_network import MLPClassifier\n",
    "\n",
    "        \n",
    "# Preparing For Cross Validation\n",
    "X = X_train\n",
    "Y = y_train\n",
    " \n",
    "# prepare configuration for cross validation test harness\n",
    "seed = 42\n",
    "\n",
    "# prepare models\n",
    "models = []\n",
    "models.append(('LR', LogisticRegression()))\n",
    "models.append(('KNN', KNeighborsClassifier()))\n",
    "models.append(('CART', DecisionTreeClassifier()))\n",
    "models.append(('NB', GaussianNB()))\n",
    "models.append(('SVM', SVC()))\n",
    "models.append(('Neural Net', MLPClassifier()))\n",
    "\n",
    "# evaluate each model in turn\n",
    "results = []\n",
    "names = []\n",
    "scoring = 'accuracy'\n",
    "for name, model in models:\n",
    "    kfold = sk.model_selection.KFold(n_splits=10, random_state=seed)\n",
    "    cv_results = sk.model_selection.cross_val_score(model, X, y_train, cv=kfold, scoring=scoring)\n",
    "    results.append(cv_results)\n",
    "    names.append(name)\n",
    "    msg = \"%s: Accuracy: %f (std: %f)\" % (name, cv_results.mean(), cv_results.std())\n",
    "    print(msg)\n",
    "    \n",
    "# boxplot algorithm comparison\n",
    "fig = plt.figure()\n",
    "fig.suptitle('Algorithm Comparison')\n",
    "ax = fig.add_subplot(111)\n",
    "plt.boxplot(results)\n",
    "ax.set_xticklabels(names)\n",
    "ax.set_ylabel('Accuracy')\n",
    "plt.show()"
   ]
  },
  {
   "cell_type": "markdown",
   "metadata": {},
   "source": [
    "By comparing any of the algorithms above, we can see that best performed classifiers are:\n",
    "- **Logistic Regression **\n",
    "- **K-Nearest Neighbors ** \n",
    "- **Support Vector Machine ** \n",
    "- **Neural Net ** \n",
    "\n",
    "\n"
   ]
  },
  {
   "cell_type": "markdown",
   "metadata": {},
   "source": [
    "### Created Functions that are used later### "
   ]
  },
  {
   "cell_type": "markdown",
   "metadata": {},
   "source": [
    "**Plotting Confusion Matrix**"
   ]
  },
  {
   "cell_type": "code",
   "execution_count": 21,
   "metadata": {},
   "outputs": [],
   "source": [
    "# Plotting Confusion Matrix\n",
    "def plot_confusion_matrix(cm, classes,\n",
    "                          normalize=False,\n",
    "                          title='Confusion matrix',\n",
    "                          cmap=plt.cm.Blues):\n",
    "    \"\"\"\n",
    "    This function prints and plots the confusion matrix.\n",
    "    Normalization can be applied by setting `normalize=True`.\n",
    "    \"\"\"\n",
    "    if normalize:\n",
    "        cm = cm.astype('float') / cm.sum(axis=1)[:, np.newaxis]\n",
    "\n",
    "    import itertools\n",
    "    #from itertools import product\n",
    "    plt.imshow(cm, interpolation='nearest', cmap=cmap)\n",
    "    plt.title(title)\n",
    "    plt.colorbar()\n",
    "    tick_marks = np.arange(len(classes))\n",
    "    plt.xticks(tick_marks, classes, rotation=45)\n",
    "    plt.yticks(tick_marks, classes)\n",
    "\n",
    "    fmt = '.2f' if normalize else 'd'\n",
    "    thresh = cm.max() / 2.\n",
    "    for i, j in itertools.product(range(cm.shape[0]), range(cm.shape[1])):\n",
    "        plt.text(j, i, format(cm[i, j], fmt),\n",
    "                 horizontalalignment=\"center\",\n",
    "                 color=\"white\" if cm[i, j] > thresh else \"black\")\n",
    "\n",
    "    plt.tight_layout()\n",
    "    plt.ylabel('True label')\n",
    "    plt.xlabel('Predicted label')"
   ]
  },
  {
   "cell_type": "markdown",
   "metadata": {},
   "source": [
    "** Logistic Regression Hyperparameter Tuning using Grid Search Cross Validation **"
   ]
  },
  {
   "cell_type": "code",
   "execution_count": 22,
   "metadata": {},
   "outputs": [],
   "source": [
    "# Hyperparameter Tuning using Grid Search Cross Validation \n",
    "def Hyperparameter_Tuning_LR(X_train,y_train,random_state=42):\n",
    "    import sklearn as sk\n",
    "    # Create logistic regression\n",
    "    logistic = sk.linear_model.LogisticRegression(random_state=random_state)\n",
    "\n",
    "    # Create regularization penalty space\n",
    "    penalty = ['l1', 'l2']\n",
    "\n",
    "    # Create regularization hyperparameter space\n",
    "    C = np.logspace(0, 4, 10)\n",
    "\n",
    "    # Create class weight hyperparameter space\n",
    "    #CW=[{0:0.67, 1:0.33},{0:0.75, 1:0.25} ,{0:0.8, 1:0.2},{0:0.9, 1:0.1},{0:0.91, 1:0.89},'balanced'] #expected 2:1\n",
    "\n",
    "    # Create hyperparameter options\n",
    "    hyperparameters = dict(C=C, penalty=penalty)#,class_weight=CW)\n",
    "\n",
    "    # Create grid search using 5-fold cross validation\n",
    "    clf = sk.model_selection.GridSearchCV(logistic, hyperparameters, cv=5, verbose=0)\n",
    "\n",
    "    # Fit grid search\n",
    "    best_LR_model = clf.fit(X_train, y_train)\n",
    "\n",
    "    # View best hyperparameters\n",
    "    print 'Best Penalty:', best_LR_model.best_estimator_.get_params()['penalty']\n",
    "    print 'Best C:', best_LR_model.best_estimator_.get_params()['C']\n",
    "    #print('Best Class_weight:', best_LR_model.best_estimator_.get_params()['class_weight'])"
   ]
  },
  {
   "cell_type": "markdown",
   "metadata": {},
   "source": [
    "**Tuning Logistic Regression Class Weight **"
   ]
  },
  {
   "cell_type": "code",
   "execution_count": 23,
   "metadata": {},
   "outputs": [],
   "source": [
    "# Function compares different binary class weights based on AUC metric. Finally, Plotting AUC by minority class weight\n",
    "def Compare_AUC_Class_Weight(X_train,y_train,X_test,y_test,penalty='l1',C=1):\n",
    "    import pandas as pd\n",
    "    from sklearn.feature_selection import RFE\n",
    "    from sklearn.linear_model import LogisticRegression\n",
    "\n",
    "    # Comparing between different class weight\n",
    "    j=0\n",
    "    LR_AUC_table = pd.DataFrame(columns = ['minority_class_weight','AUC'])\n",
    "    for i in np.arange(0.05, 1, 0.05):\n",
    "\n",
    "        # all parameters not specified are set to their defaults\n",
    "        logisticRegr = LogisticRegression(penalty=penalty,C=C ,class_weight={0:i, 1:(1-i)},random_state=42)\n",
    "        logisticRegr.fit(X_train, y_train)\n",
    "\n",
    "        # Predictions\n",
    "        y_pred=logisticRegr.predict(X_test)\n",
    "\n",
    "        # Saving AUC score in table\n",
    "        LR_AUC_table.at[j, 'minority_class_weight']  = i\n",
    "        LR_AUC_table.at[j, 'AUC'] = sk.metrics.roc_auc_score(y_test, y_pred)\n",
    "        j+=1\n",
    "\n",
    "\n",
    "    # Plotting AUC Comparison \n",
    "    ax=LR_AUC_table.plot('minority_class_weight','AUC',xticks=np.arange(0.05, 1, 0.05),figsize=(10,4))\n",
    "    ax.set_ylabel(\"AUC\")\n",
    "    ax.set_xlabel(\"minority_class_weight\")\n",
    "    plt.show()"
   ]
  },
  {
   "cell_type": "markdown",
   "metadata": {},
   "source": [
    "** Finds Best K By Area Under Curve**"
   ]
  },
  {
   "cell_type": "code",
   "execution_count": 24,
   "metadata": {},
   "outputs": [],
   "source": [
    "def finding_best_K(X_train,y_train, X_test,y_test,max_k=50):\n",
    "    from sklearn import neighbors\n",
    "    # Comparing between different K's\n",
    "    j=0\n",
    "    KNN_AUC_table = pd.DataFrame(columns = ['K','AUC'])\n",
    "    for k in range(1,max_k):\n",
    "        # Train a KNN classifier with 5 neighbors\n",
    "        knn = neighbors.KNeighborsClassifier(n_neighbors=k, n_jobs=-1).fit(X_train, y_train)\n",
    "\n",
    "        # Prediction on test data\n",
    "        y_pred = knn.predict(X_test)\n",
    "\n",
    "        # Saving AUC score in table\n",
    "        KNN_AUC_table.at[j, 'K']  = k\n",
    "        KNN_AUC_table.at[j, 'AUC'] = sk.metrics.roc_auc_score(y_test, y_pred)\n",
    "        j+=1\n",
    "\n",
    "    print 'Max AUC: ',KNN_AUC_table['AUC'].max(),' Best K: ',KNN_AUC_table['K'][KNN_AUC_table['AUC'].values.argmax()]\n",
    "    # Plotting AUC Comparison \n",
    "    ax=KNN_AUC_table.plot('K','AUC',xticks=range(1,max_k),figsize=(10,4))\n",
    "    ax.set_ylabel(\"AUC\")\n",
    "    ax.set_xlabel(\"K\")\n",
    "    plt.show()"
   ]
  },
  {
   "cell_type": "markdown",
   "metadata": {},
   "source": [
    "** Random Forest Hyperparameter Tuning using randomized Search Cross Validation **"
   ]
  },
  {
   "cell_type": "code",
   "execution_count": 25,
   "metadata": {},
   "outputs": [],
   "source": [
    "# Hyperparameter tuning for Random Forest by a given train set. \n",
    "def Random_Forest_Hyperparameter_Tuning(X_train, y_train):\n",
    "    from sklearn.model_selection import RandomizedSearchCV\n",
    "\n",
    "    # Number of trees in random forest\n",
    "    n_estimators = [int(x) for x in np.linspace(start = 200, stop = 2000, num = 10)]\n",
    "\n",
    "    # Number of features to consider at every split\n",
    "    max_features = ['auto', 'sqrt']\n",
    "\n",
    "    # Maximum number of levels in tree\n",
    "    max_depth = [int(x) for x in np.linspace(10, 110, num = 11)]\n",
    "    max_depth.append(None)\n",
    "\n",
    "    # Minimum number of samples required to split a node\n",
    "    min_samples_split = [2, 5, 10]\n",
    "\n",
    "    # Minimum number of samples required at each leaf node\n",
    "    min_samples_leaf = [1, 2, 4]\n",
    "\n",
    "    # Method of selecting samples for training each tree\n",
    "    bootstrap = [True, False]\n",
    "\n",
    "    # Create the random grid\n",
    "    random_grid = {'n_estimators': n_estimators,\n",
    "                   'max_features': max_features,\n",
    "                   'max_depth': max_depth,\n",
    "                   'min_samples_split': min_samples_split,\n",
    "                   'min_samples_leaf': min_samples_leaf,\n",
    "                   'bootstrap': bootstrap}\n",
    "\n",
    "\n",
    "    # Use the random grid to search for best hyperparameters\n",
    "    # First create the base model to tune\n",
    "    rf = RandomForestRegressor()\n",
    "\n",
    "    # Random search of parameters, using 3 fold cross validation, \n",
    "    # search across 100 different combinations, and use all available cores\n",
    "    rf_random = RandomizedSearchCV(estimator = rf, param_distributions = random_grid, n_iter = 100, \n",
    "                                   cv = 3, verbose=2, random_state=42, n_jobs = -1)\n",
    "\n",
    "    # Fit the random search model\n",
    "    rf_random.fit(X_train, y_train)\n",
    "\n",
    "    # Best Random Forest Down Sampling Configuration\n",
    "    print rf_random.best_params_"
   ]
  },
  {
   "cell_type": "markdown",
   "metadata": {},
   "source": [
    "**Find Best Random Forest Probability Treshold**"
   ]
  },
  {
   "cell_type": "code",
   "execution_count": 26,
   "metadata": {},
   "outputs": [],
   "source": [
    "def find_Best_RF_Treshold(y_pred):\n",
    "    import sklearn as sk\n",
    "    j=0\n",
    "    RF_AUC_table = pd.DataFrame(columns = ['Probability Treshold','AUC'])\n",
    "\n",
    "    # Compare between tresholds\n",
    "    for i in np.arange(0.5, 0.95, 0.005):\n",
    "\n",
    "        # Finding best probability treshold\n",
    "        predictions=y_pred.copy() \n",
    "        predictions[predictions > i] = 1\n",
    "        predictions[predictions <= i] = 0\n",
    "\n",
    "        # Compute confusion matrix based on selected treshold\n",
    "        cnf_matrix = sk.metrics.confusion_matrix(y_test, predictions)\n",
    "        np.set_printoptions(precision=2)\n",
    "\n",
    "        # Saving AUC score in table\n",
    "        RF_AUC_table.at[j, 'Probability Treshold']  = i\n",
    "        RF_AUC_table.at[j, 'AUC'] = sk.metrics.roc_auc_score(y_test, predictions)\n",
    "        j+=1\n",
    "\n",
    "\n",
    "    # Plotting AUC Comparison \n",
    "    ax=RF_AUC_table.plot('Probability Treshold','AUC',xticks=np.arange(0.5, 0.95, 0.005),figsize=(10,4))\n",
    "    ax.set_ylabel(\"AUC\")\n",
    "    ax.set_xlabel(\"Probability Treshold\")\n",
    "    plt.show()\n",
    "\n",
    "    #Print results\n",
    "    print 'Max AUC: ',RF_AUC_table['AUC'].max(),' Probability Treshold: ',RF_AUC_table.loc[RF_AUC_table.AUC.values.argmax(), 'Probability Treshold']"
   ]
  },
  {
   "cell_type": "markdown",
   "metadata": {},
   "source": [
    "** Prints Classification Report, Accuracy & Area Under curve**"
   ]
  },
  {
   "cell_type": "code",
   "execution_count": 27,
   "metadata": {},
   "outputs": [],
   "source": [
    "# Prints classification reports, accuracy & Area Under curve based on a given Test Target (y_test) & Predictions(y_pred).\n",
    "def print_class_matrics(y_test, y_pred):\n",
    "    from sklearn import metrics\n",
    "    print metrics.classification_report(y_test, y_pred)\n",
    "    print 'Accuracy: ',sk.metrics.accuracy_score(y_test, y_pred)*100 ,'%'\n",
    "    print'AUC: ',sk.metrics.roc_auc_score(y_test, y_pred)*100,'%'"
   ]
  },
  {
   "cell_type": "markdown",
   "metadata": {},
   "source": [
    "** Creates AUC Scoring Function**"
   ]
  },
  {
   "cell_type": "code",
   "execution_count": 28,
   "metadata": {},
   "outputs": [],
   "source": [
    "# define scoring function \n",
    "def custom_auc(ground_truth, predictions):\n",
    "    # Importing packages\n",
    "    from sklearn import metrics\n",
    "    \n",
    "    # I need only one column of predictions[\"0\" and \"1\"]. You can get an error here   \n",
    "    return metrics.roc_auc_score(ground_truth, predictions)*100\n",
    "    \n",
    "# to be standart sklearn's scorer        \n",
    "AUC_Scorer = sk.metrics.make_scorer(custom_auc, greater_is_better=True, needs_proba=False)"
   ]
  },
  {
   "cell_type": "markdown",
   "metadata": {},
   "source": [
    "#### <font color=blue> Logistic Regression </font>"
   ]
  },
  {
   "cell_type": "markdown",
   "metadata": {},
   "source": [
    "Hyperparameter tuning to find best configuration for Logistic Regression models."
   ]
  },
  {
   "cell_type": "code",
   "execution_count": 29,
   "metadata": {},
   "outputs": [
    {
     "name": "stdout",
     "output_type": "stream",
     "text": [
      "Best Penalty: l1\n",
      "Best C: 1.0\n"
     ]
    }
   ],
   "source": [
    "# Hyperparameter Tuning using Grid Search Cross Validation   \n",
    "Hyperparameter_Tuning_LR(X_train,y_train,42)"
   ]
  },
  {
   "cell_type": "markdown",
   "metadata": {},
   "source": [
    "Since the best picked configuration classify all test data points as '1', we want to find best Class Weight for maximizing the Area Under Curve."
   ]
  },
  {
   "cell_type": "code",
   "execution_count": 30,
   "metadata": {},
   "outputs": [
    {
     "data": {
      "image/png": "[encoded data removed]",
      "text/plain": [
       "<Figure size 720x288 with 1 Axes>"
      ]
     },
     "metadata": {},
     "output_type": "display_data"
    }
   ],
   "source": [
    "# Plotting AUC by class weight\n",
    "Compare_AUC_Class_Weight(X_train,y_train,X_test,y_test,penalty='l1',C=1)"
   ]
  },
  {
   "cell_type": "markdown",
   "metadata": {},
   "source": [
    "Selecting best configuration."
   ]
  },
  {
   "cell_type": "code",
   "execution_count": 31,
   "metadata": {},
   "outputs": [
    {
     "name": "stdout",
     "output_type": "stream",
     "text": [
      "Optimized Logistic Regression \n",
      "\n",
      "             precision    recall  f1-score   support\n",
      "\n",
      "          0       0.10      0.28      0.15        50\n",
      "          1       0.92      0.77      0.84       549\n",
      "\n",
      "avg / total       0.85      0.73      0.78       599\n",
      "\n",
      "Accuracy:  72.62103505843072 %\n",
      "AUC:  52.342440801457194 %\n"
     ]
    },
    {
     "data": {
      "image/png": "[encoded data removed]",
      "text/plain": [
       "<Figure size 432x288 with 2 Axes>"
      ]
     },
     "metadata": {},
     "output_type": "display_data"
    }
   ],
   "source": [
    "# Selecting Best Class Weight {0:0.9,1:0.1}\n",
    "\n",
    "# Adjusting LR Model based on best configuration\n",
    "logisticRegr = LogisticRegression(penalty='l1', C=1, class_weight={0:0.9, 1:0.1},random_state=42)\n",
    "logisticRegr.fit(X_train, y_train)\n",
    "\n",
    "# Predictions\n",
    "y_pred=logisticRegr.predict(X_test)\n",
    "\n",
    "# Computing confusion matrix\n",
    "cnf_matrix = sk.metrics.confusion_matrix(y_test, y_pred)\n",
    "np.set_printoptions(precision=2)\n",
    "\n",
    "# Plotting confusion matrix\n",
    "plt.figure()\n",
    "plot_confusion_matrix(cnf_matrix, classes=['0','1'],\n",
    "                      title='Confusion matrix')\n",
    "\n",
    "# Print Metrics\n",
    "print 'Optimized Logistic Regression','\\n'\n",
    "print_class_matrics(y_test, y_pred)\n",
    "plt.show()"
   ]
  },
  {
   "cell_type": "markdown",
   "metadata": {},
   "source": [
    "**Upsampling**"
   ]
  },
  {
   "cell_type": "markdown",
   "metadata": {},
   "source": [
    "Hyperparameter tuning to find best configuration for Logistic Regression models."
   ]
  },
  {
   "cell_type": "code",
   "execution_count": 32,
   "metadata": {
    "scrolled": false
   },
   "outputs": [
    {
     "name": "stdout",
     "output_type": "stream",
     "text": [
      "1    2179\n",
      "0    2179\n",
      "Name: did_buy, dtype: int64\n",
      "Best Penalty: l2\n",
      "Best C: 3593.813663804626\n"
     ]
    }
   ],
   "source": [
    "from sklearn.utils import resample\n",
    "\n",
    "#Splitting to Test and Train Data\n",
    "train, test = sk.model_selection.train_test_split(finalData, test_size=0.2,random_state=42) \n",
    "\n",
    "# Separate majority and minority classes\n",
    "train_majority = train[train.did_buy==1]\n",
    "train_minority = train[train.did_buy==0]\n",
    "\n",
    " \n",
    "# Upsample minority class\n",
    "train_minority_upsampled = resample(train_minority, \n",
    "                                 replace=True,     # sample with replacement\n",
    "                                 n_samples=2179,    # to match majority class\n",
    "                                 random_state=123) # reproducible results\n",
    " \n",
    "# Combine majority class with upsampled minority class\n",
    "train_upsampled = pd.concat([train_majority, train_minority_upsampled])\n",
    "\n",
    "# Display new class counts\n",
    "print train_upsampled.did_buy.value_counts()\n",
    "\n",
    "# Balanced Data\n",
    "# 0    2179\n",
    "# 1    2179\n",
    "\n",
    "#Re-Splitting Data \n",
    "y_train_US=train_upsampled.did_buy\n",
    "X_train_US=train_upsampled.drop('did_buy', axis=1)\n",
    "y_test=test.did_buy\n",
    "X_test=test.drop('did_buy',axis=1)\n",
    "\n",
    "# Hyperparameter Tuning using Grid Search Cross Validation   \n",
    "Hyperparameter_Tuning_LR(X_train_US,y_train_US)"
   ]
  },
  {
   "cell_type": "markdown",
   "metadata": {},
   "source": [
    "Finding best class weight while maximizing Area Under Curve."
   ]
  },
  {
   "cell_type": "code",
   "execution_count": 33,
   "metadata": {},
   "outputs": [
    {
     "data": {
      "image/png": "[encoded data removed]",
      "text/plain": [
       "<Figure size 720x288 with 1 Axes>"
      ]
     },
     "metadata": {},
     "output_type": "display_data"
    }
   ],
   "source": [
    "# Best Penalty: l2\n",
    "# Best C: 3593.813663804626\n",
    "    \n",
    "# Plotting AUC by class weight\n",
    "Compare_AUC_Class_Weight(X_train_US,y_train_US,X_test,y_test,penalty='l2',C=3593.813663804626)\n",
    "# Best class_weight Area = {1:0.45, 0:0.55}"
   ]
  },
  {
   "cell_type": "markdown",
   "metadata": {},
   "source": [
    "Selecting best configuration."
   ]
  },
  {
   "cell_type": "code",
   "execution_count": 38,
   "metadata": {},
   "outputs": [
    {
     "name": "stdout",
     "output_type": "stream",
     "text": [
      "Logistic Regression on Upsampled Data \n",
      "\n",
      "             precision    recall  f1-score   support\n",
      "\n",
      "          0       0.10      0.22      0.13        50\n",
      "          1       0.92      0.81      0.86       549\n",
      "\n",
      "avg / total       0.85      0.76      0.80       599\n",
      "\n",
      "Accuracy:  76.29382303839732 %\n",
      "AUC:  51.61930783242259 %\n"
     ]
    },
    {
     "data": {
      "image/png": "[encoded data removed]",
      "text/plain": [
       "<Figure size 432x288 with 2 Axes>"
      ]
     },
     "metadata": {},
     "output_type": "display_data"
    }
   ],
   "source": [
    "# Best class_weight Area = {1:0.45, 0:0.55}\n",
    "\n",
    "# all parameters not specified are set to their defaults\n",
    "logisticRegr = sk.linear_model.LogisticRegression(penalty='l2',C=3593.813663804626,class_weight={0:0.45,1:0.55}, random_state=42)\n",
    "logisticRegr.fit(X_train_US, y_train_US)\n",
    "\n",
    "# Predictions\n",
    "y_pred=logisticRegr.predict(X_test)\n",
    "\n",
    "# Compute confusion matrix\n",
    "cnf_matrix = sk.metrics.confusion_matrix(y_test, y_pred)\n",
    "np.set_printoptions(precision=2)\n",
    "\n",
    "# Plot confusion matrix\n",
    "plt.figure()\n",
    "plot_confusion_matrix(cnf_matrix, classes=['0','1'],\n",
    "                      title='Confusion matrix')\n",
    "# Print Metrics\n",
    "print 'Logistic Regression on Upsampled Data','\\n'\n",
    "print_class_matrics(y_test, y_pred)\n",
    "plt.show()"
   ]
  },
  {
   "cell_type": "markdown",
   "metadata": {},
   "source": [
    "**Downsampling**"
   ]
  },
  {
   "cell_type": "markdown",
   "metadata": {},
   "source": [
    "Hyperparameter tuning to find best configuration for Logistic Regression models.\n",
    "- Penalty\n",
    "- Inverse of regularization strength\n",
    "- Class Weights"
   ]
  },
  {
   "cell_type": "code",
   "execution_count": 39,
   "metadata": {},
   "outputs": [
    {
     "name": "stdout",
     "output_type": "stream",
     "text": [
      "Best Penalty: l1\n",
      "Best C: 166.81005372000593\n"
     ]
    }
   ],
   "source": [
    "# Downsample majority class\n",
    "train_majority_downsampled = resample(train_majority, \n",
    "                                 replace=False,    # sample without replacement\n",
    "                                 n_samples=213,     # to match minority class\n",
    "                                 random_state=123) # reproducible results\n",
    " \n",
    "# Combine minority class with downsampled majority class\n",
    "train_downsampled = pd.concat([train_majority_downsampled, train_minority])\n",
    " \n",
    "# Display new class counts\n",
    "train_downsampled.did_buy.value_counts()\n",
    "\n",
    "# 1    223\n",
    "# 0    211\n",
    "\n",
    "#Re-Splitting Data \n",
    "y_train_DS=train_downsampled.did_buy\n",
    "X_train_DS=train_downsampled.drop('did_buy',axis=1)\n",
    "\n",
    "# Hyperparameter Tuning using Grid Search Cross Validation   \n",
    "Hyperparameter_Tuning_LR(X_train_DS,y_train_DS)"
   ]
  },
  {
   "cell_type": "markdown",
   "metadata": {},
   "source": [
    "Finding best class  weight while maximizing Area Under Curve."
   ]
  },
  {
   "cell_type": "code",
   "execution_count": 40,
   "metadata": {},
   "outputs": [
    {
     "data": {
      "image/png": "[encoded data removed]",
      "text/plain": [
       "<Figure size 720x288 with 1 Axes>"
      ]
     },
     "metadata": {},
     "output_type": "display_data"
    }
   ],
   "source": [
    "#Plot AUC by class weight\n",
    "Compare_AUC_Class_Weight(X_train_DS,y_train_DS,X_test,y_test,penalty='l1',C=166.81005372000593)\n",
    "# Best class_weight Area = {1:0.45, 0:0.55}"
   ]
  },
  {
   "cell_type": "markdown",
   "metadata": {},
   "source": [
    "Selecting best configuration."
   ]
  },
  {
   "cell_type": "code",
   "execution_count": 41,
   "metadata": {},
   "outputs": [
    {
     "name": "stdout",
     "output_type": "stream",
     "text": [
      "Logistic Regression on Downsampled Data \n",
      "\n",
      "             precision    recall  f1-score   support\n",
      "\n",
      "          0       0.10      0.34      0.16        50\n",
      "          1       0.92      0.73      0.82       549\n",
      "\n",
      "avg / total       0.86      0.70      0.76       599\n",
      "\n",
      "Accuracy:  69.94991652754591 %\n",
      "AUC:  53.612021857923494 %\n"
     ]
    },
    {
     "data": {
      "image/png": "[encoded data removed]",
      "text/plain": [
       "<Figure size 432x288 with 2 Axes>"
      ]
     },
     "metadata": {},
     "output_type": "display_data"
    }
   ],
   "source": [
    "# Best class_weight Area = {1:0.45, 0:0.55}\n",
    "\n",
    "# all parameters not specified are set to their defaults\n",
    "logisticRegr = LogisticRegression(penalty='l1',C=166.81005372000593,class_weight={0:0.45, 1:0.55},random_state=42)\n",
    "logisticRegr.fit(X_train_DS,y_train_DS)\n",
    "\n",
    "\n",
    "# Predict for One Observation (image)\n",
    "y_pred=logisticRegr.predict(X_test)\n",
    "\n",
    "# Compute confusion matrix\n",
    "cnf_matrix = sk.metrics.confusion_matrix(y_test, y_pred)\n",
    "np.set_printoptions(precision=2)\n",
    "\n",
    "# Plot confusion matrix\n",
    "plt.figure()\n",
    "plot_confusion_matrix(cnf_matrix, classes=['0','1'],\n",
    "                      title='Confusion matrix')\n",
    "\n",
    "# Print Metrics\n",
    "print 'Logistic Regression on Downsampled Data','\\n'\n",
    "print_class_matrics(y_test, y_pred)\n",
    "plt.show()"
   ]
  },
  {
   "cell_type": "markdown",
   "metadata": {},
   "source": [
    "By comparing different Logistic Regression models based on the Area Under Curve metric, we can see that best fit is the **Downsampled Model**. \n",
    "\n",
    "<u>Downsampled model details:</u>\n",
    "- Accuracy:  76.5 %\n",
    "- AUC:  54.5%  \n",
    "- Penalty = 'l2'\n",
    "- C = 2.78255940221\n",
    "- class_weight = {0:0.4377, 1:0.5723}"
   ]
  },
  {
   "cell_type": "markdown",
   "metadata": {},
   "source": [
    "#### <font color=blue> Random Forest </font>####"
   ]
  },
  {
   "cell_type": "markdown",
   "metadata": {},
   "source": [
    "Hyperparameter tuning to find best configuration for Logistic Regression models.\n",
    "- Number of trees\n",
    "- Number of features to consider at every split\n",
    "- Maximum number of levels in tree\n",
    "- Minimum number of samples required to split a node\n",
    "- Minimum number of samples required at each leaf node\n",
    "- Bootstrapping"
   ]
  },
  {
   "cell_type": "code",
   "execution_count": 47,
   "metadata": {},
   "outputs": [
    {
     "name": "stdout",
     "output_type": "stream",
     "text": [
      "Fitting 3 folds for each of 100 candidates, totalling 300 fits\n"
     ]
    },
    {
     "name": "stderr",
     "output_type": "stream",
     "text": [
      "[Parallel(n_jobs=-1)]: Done  33 tasks      | elapsed:  1.8min\n",
      "[Parallel(n_jobs=-1)]: Done 154 tasks      | elapsed:  7.6min\n",
      "[Parallel(n_jobs=-1)]: Done 300 out of 300 | elapsed: 14.1min finished\n"
     ]
    },
    {
     "name": "stdout",
     "output_type": "stream",
     "text": [
      "{'bootstrap': True, 'min_samples_leaf': 4, 'n_estimators': 400, 'max_features': 'sqrt', 'min_samples_split': 2, 'max_depth': 10}\n"
     ]
    }
   ],
   "source": [
    "# Best Random Forest Down Sampling Configuration\n",
    "Random_Forest_Hyperparameter_Tuning(X_train, y_train)"
   ]
  },
  {
   "cell_type": "markdown",
   "metadata": {},
   "source": [
    "Selecting best configuration and plotting Confusion Matrix & Metrics."
   ]
  },
  {
   "cell_type": "code",
   "execution_count": 48,
   "metadata": {},
   "outputs": [
    {
     "data": {
      "image/png": "[encoded data removed]",
      "text/plain": [
       "<Figure size 720x288 with 1 Axes>"
      ]
     },
     "metadata": {},
     "output_type": "display_data"
    },
    {
     "name": "stdout",
     "output_type": "stream",
     "text": [
      "Max AUC:  0.5517304189435337  Probability Treshold:  0.8550000000000003\n",
      "Optimized Random Forest \n",
      "\n",
      "             precision    recall  f1-score   support\n",
      "\n",
      "          0       0.16      0.20      0.18        50\n",
      "          1       0.93      0.90      0.91       549\n",
      "\n",
      "avg / total       0.86      0.84      0.85       599\n",
      "\n",
      "Accuracy:  84.47412353923205 %\n",
      "AUC:  55.17304189435337 %\n"
     ]
    },
    {
     "data": {
      "image/png": "[encoded data removed]",
      "text/plain": [
       "<Figure size 432x288 with 2 Axes>"
      ]
     },
     "metadata": {},
     "output_type": "display_data"
    }
   ],
   "source": [
    "from sklearn.metrics import classification_report\n",
    "from sklearn.metrics import accuracy_score\n",
    "from sklearn import ensemble\n",
    "# Best Random Forest Down Sampling Configuration\n",
    "# {'bootstrap': True,\n",
    "#  'max_depth': 10,\n",
    "#  'max_features': 'sqrt',\n",
    "#  'min_samples_leaf': 4,\n",
    "#  'min_samples_split': 2,\n",
    "#  'n_estimators': 400}\n",
    "\n",
    "best_RF = ensemble.RandomForestRegressor(n_estimators = 400, random_state = 42, \n",
    "                                bootstrap=True, max_depth=10, min_samples_leaf=4,\n",
    "                                min_samples_split=2,max_features='sqrt')\n",
    "\n",
    "\n",
    "# Train model on training data\n",
    "best_RF.fit(X_train, y_train);\n",
    "\n",
    "# Using forest's predict method on the test data\n",
    "y_pred = best_RF.predict(X_test)\n",
    "\n",
    "# Finding best treshold\n",
    "find_Best_RF_Treshold(y_pred)\n",
    "\n",
    "# Transform Predictions probability to predicted class\n",
    "predictions=y_pred.copy() \n",
    "predictions[predictions >  0.8550000000000003] = 1\n",
    "predictions[predictions <=  0.8550000000000003] = 0\n",
    "    \n",
    "#Printing Classification Results\n",
    "print 'Optimized Random Forest','\\n'\n",
    "print_class_matrics(y_test, predictions)\n",
    "\n",
    "# Plotting confusion matrix\n",
    "plt.figure()\n",
    "plot_confusion_matrix(sk.metrics.confusion_matrix(y_test, predictions), classes=['0','1'],title='Confusion matrix')\n",
    "plt.show()"
   ]
  },
  {
   "cell_type": "markdown",
   "metadata": {},
   "source": [
    "**Downsampling**"
   ]
  },
  {
   "cell_type": "markdown",
   "metadata": {},
   "source": [
    "Hyperparameter tuning to find best configuration for Logistic Regression models."
   ]
  },
  {
   "cell_type": "code",
   "execution_count": 49,
   "metadata": {},
   "outputs": [
    {
     "name": "stdout",
     "output_type": "stream",
     "text": [
      "Fitting 3 folds for each of 100 candidates, totalling 300 fits\n"
     ]
    },
    {
     "name": "stderr",
     "output_type": "stream",
     "text": [
      "[Parallel(n_jobs=-1)]: Done  33 tasks      | elapsed:  1.0min\n",
      "[Parallel(n_jobs=-1)]: Done 154 tasks      | elapsed:  4.6min\n",
      "[Parallel(n_jobs=-1)]: Done 300 out of 300 | elapsed:  8.7min finished\n"
     ]
    },
    {
     "name": "stdout",
     "output_type": "stream",
     "text": [
      "{'bootstrap': True, 'min_samples_leaf': 1, 'n_estimators': 400, 'max_features': 'sqrt', 'min_samples_split': 5, 'max_depth': 100}\n"
     ]
    }
   ],
   "source": [
    "Random_Forest_Hyperparameter_Tuning(X_train_DS, y_train_DS)"
   ]
  },
  {
   "cell_type": "markdown",
   "metadata": {},
   "source": [
    "Finds best classifier treshold while selecting best configuration."
   ]
  },
  {
   "cell_type": "code",
   "execution_count": 50,
   "metadata": {},
   "outputs": [
    {
     "data": {
      "image/png": "[encoded data removed]",
      "text/plain": [
       "<Figure size 720x288 with 1 Axes>"
      ]
     },
     "metadata": {},
     "output_type": "display_data"
    },
    {
     "name": "stdout",
     "output_type": "stream",
     "text": [
      "Max AUC:  0.543151183970856  Probability Treshold:  0.505\n"
     ]
    }
   ],
   "source": [
    "# Import the model we are using\n",
    "from sklearn.ensemble import RandomForestRegressor\n",
    "\n",
    "# {'max_depth': 100, 'max_features': 'sqrt', 'min_samples_split': 5, \n",
    "#  'min_samples_leaf': 1, 'bootstrap': True, 'n_estimators': 400}\n",
    "\n",
    "# Instantiate model with 400 decision trees\n",
    "best_RF = RandomForestRegressor(n_estimators = 400, random_state = 42, \n",
    "                                bootstrap=True, max_depth=100, min_samples_leaf=1,\n",
    "                                min_samples_split=5,max_features='sqrt')\n",
    "\n",
    "# Train the model on training data\n",
    "best_RF.fit(X_train_DS,y_train_DS)\n",
    "\n",
    "\n",
    "# Use the forest's predict method on the test data\n",
    "y_pred = best_RF.predict(X_test)\n",
    "find_Best_RF_Treshold(y_pred)"
   ]
  },
  {
   "cell_type": "markdown",
   "metadata": {},
   "source": [
    "Plotting Confusion Matrix & Metrics."
   ]
  },
  {
   "cell_type": "code",
   "execution_count": 51,
   "metadata": {},
   "outputs": [
    {
     "name": "stdout",
     "output_type": "stream",
     "text": [
      "             precision    recall  f1-score   support\n",
      "\n",
      "          0       0.10      0.62      0.17        50\n",
      "          1       0.93      0.47      0.62       549\n",
      "\n",
      "avg / total       0.86      0.48      0.58       599\n",
      "\n",
      "Accuracy:  47.91318864774624 %\n",
      "AUC:  54.315118397085605 %\n"
     ]
    },
    {
     "data": {
      "image/png": "[encoded data removed]",
      "text/plain": [
       "<Figure size 432x288 with 2 Axes>"
      ]
     },
     "metadata": {},
     "output_type": "display_data"
    }
   ],
   "source": [
    "from sklearn import metrics\n",
    "# Train the model on training data\n",
    "best_RF.fit(X_train_DS,y_train_DS)\n",
    "\n",
    "\n",
    "# Use the forest's predict method on the test data\n",
    "y_pred = best_RF.predict(X_test)\n",
    "predictions=y_pred.copy()\n",
    "predictions[predictions >0.505] = 1\n",
    "predictions[predictions <= 0.505] = 0\n",
    "\n",
    "# Compute confusion matrix\n",
    "cnf_matrix = metrics.confusion_matrix(y_test, predictions)\n",
    "np.set_printoptions(precision=2)\n",
    "\n",
    "# Plotting confusion matrix\n",
    "plt.figure()\n",
    "plot_confusion_matrix(cnf_matrix, classes=['0','1'],\n",
    "                      title='Confusion matrix')\n",
    "\n",
    "#Printing Classification Results\n",
    "print_class_matrics(y_test, predictions)\n",
    "plt.show()"
   ]
  },
  {
   "cell_type": "markdown",
   "metadata": {},
   "source": [
    "#### <font color=blue> K Nearest Neighbors </font>####"
   ]
  },
  {
   "cell_type": "markdown",
   "metadata": {},
   "source": [
    "Finding best K who maximize the Area Under Curve metric."
   ]
  },
  {
   "cell_type": "code",
   "execution_count": 71,
   "metadata": {},
   "outputs": [
    {
     "name": "stdout",
     "output_type": "stream",
     "text": [
      "Max AUC:  0.5153734061930783  Best K:  1\n"
     ]
    },
    {
     "data": {
      "image/png": "[encoded data removed]",
      "text/plain": [
       "<Figure size 720x288 with 1 Axes>"
      ]
     },
     "metadata": {},
     "output_type": "display_data"
    }
   ],
   "source": [
    "# Load libraries\n",
    "from sklearn.neighbors import KNeighborsClassifier\n",
    "from sklearn.preprocessing import StandardScaler\n",
    "\n",
    "# Create standardizer\n",
    "standardizer = StandardScaler()\n",
    "\n",
    "# Standardize features\n",
    "X_std_train = standardizer.fit_transform(X_train)\n",
    "X_std_test = standardizer.fit_transform(X_test)\n",
    "\n",
    "\n",
    "# # Finding best K for maximizing AUC\n",
    "finding_best_K(X_std_train,y_train, X_std_test,y_test,max_k=50)"
   ]
  },
  {
   "cell_type": "markdown",
   "metadata": {},
   "source": [
    "# Implementing KNN with 1 neighbors"
   ]
  },
  {
   "cell_type": "code",
   "execution_count": 73,
   "metadata": {},
   "outputs": [
    {
     "name": "stdout",
     "output_type": "stream",
     "text": [
      "KNN with 1 neighbors \n",
      "\n",
      "             precision    recall  f1-score   support\n",
      "\n",
      "          0       0.11      0.12      0.11        50\n",
      "          1       0.92      0.91      0.91       549\n",
      "\n",
      "avg / total       0.85      0.84      0.85       599\n",
      "\n",
      "Accuracy:  84.47412353923205 %\n",
      "AUC:  51.53734061930783 %\n"
     ]
    },
    {
     "data": {
      "image/png": "[encoded data removed]",
      "text/plain": [
       "<Figure size 432x288 with 2 Axes>"
      ]
     },
     "metadata": {},
     "output_type": "display_data"
    }
   ],
   "source": [
    "from sklearn import neighbors\n",
    "# Train a KNN classifier with 1 neighbors\n",
    "knn = neighbors.KNeighborsClassifier(n_neighbors=1).fit(X_std_train, y_train)\n",
    "        \n",
    "# Prediction on test data\n",
    "y_pred = knn.predict(X_std_test)\n",
    "\n",
    "# Compute confusion matrix\n",
    "cnf_matrix = metrics.confusion_matrix(y_test, y_pred)\n",
    "np.set_printoptions(precision=2)\n",
    "\n",
    "# Plotting confusion matrix\n",
    "plt.figure()\n",
    "plot_confusion_matrix(cnf_matrix, classes=['0','1'],title='Confusion matrix')\n",
    "\n",
    "#Printing Classification Results\n",
    "print 'KNN with 1 neighbors','\\n'\n",
    "print_class_matrics(y_test, y_pred)\n",
    "plt.show()"
   ]
  },
  {
   "cell_type": "markdown",
   "metadata": {},
   "source": [
    "**Downsampling**"
   ]
  },
  {
   "cell_type": "code",
   "execution_count": 76,
   "metadata": {},
   "outputs": [
    {
     "name": "stdout",
     "output_type": "stream",
     "text": [
      "Max AUC:  0.5395264116575591  Best K:  3\n"
     ]
    },
    {
     "data": {
      "image/png": "[encoded data removed]",
      "text/plain": [
       "<Figure size 720x288 with 1 Axes>"
      ]
     },
     "metadata": {},
     "output_type": "display_data"
    }
   ],
   "source": [
    "#Downsampled\n",
    "X_std_train_DS = standardizer.fit_transform(X_train_DS) \n",
    "finding_best_K(X_std_train_DS,y_train_DS, X_std_test, y_test, max_k=50)"
   ]
  },
  {
   "cell_type": "markdown",
   "metadata": {},
   "source": [
    "Implementing KNN with 3 neighbors on downsampled data."
   ]
  },
  {
   "cell_type": "code",
   "execution_count": 77,
   "metadata": {},
   "outputs": [
    {
     "name": "stdout",
     "output_type": "stream",
     "text": [
      "KNN with 3 neighbours on Downsampled Data \n",
      "\n",
      "             precision    recall  f1-score   support\n",
      "\n",
      "          0       0.09      0.60      0.16        50\n",
      "          1       0.93      0.48      0.63       549\n",
      "\n",
      "avg / total       0.86      0.49      0.59       599\n",
      "\n",
      "Accuracy:  48.91485809682805 %\n",
      "AUC:  53.95264116575591 %\n"
     ]
    },
    {
     "data": {
      "image/png": "[encoded data removed]",
      "text/plain": [
       "<Figure size 432x288 with 2 Axes>"
      ]
     },
     "metadata": {},
     "output_type": "display_data"
    }
   ],
   "source": [
    "# Train a KNN classifier with 3 neighbors\n",
    "knn = KNeighborsClassifier(n_neighbors=3, n_jobs=-1).fit(X_std_train_DS, y_train_DS)\n",
    "       \n",
    "# Prediction on test data\n",
    "y_pred = knn.predict(X_std_test)\n",
    "\n",
    "# Compute confusion matrix\n",
    "cnf_matrix = metrics.confusion_matrix(y_test, y_pred)\n",
    "np.set_printoptions(precision=2)\n",
    "\n",
    "# Plotting confusion matrix\n",
    "plt.figure()\n",
    "plot_confusion_matrix(cnf_matrix, classes=['0','1'],title='Confusion matrix')\n",
    "\n",
    "#Printing Classification Results\n",
    "print 'KNN with 3 neighbours on Downsampled Data','\\n'\n",
    "print_class_matrics(y_test, y_pred)\n",
    "plt.show()"
   ]
  },
  {
   "cell_type": "markdown",
   "metadata": {},
   "source": [
    "**Upsampling**"
   ]
  },
  {
   "cell_type": "code",
   "execution_count": 62,
   "metadata": {},
   "outputs": [
    {
     "name": "stdout",
     "output_type": "stream",
     "text": [
      "Max AUC:  0.5995810564663023  Best K:  46\n"
     ]
    },
    {
     "data": {
      "image/png": "[encoded data removed]",
      "text/plain": [
       "<Figure size 720x288 with 1 Axes>"
      ]
     },
     "metadata": {},
     "output_type": "display_data"
    }
   ],
   "source": [
    "#Upsampled\n",
    "X_std_train_US = standardizer.fit_transform(X_train_US) \n",
    "finding_best_K(X_std_train_US,y_train_US, X_std_test, y_test,max_k=50)"
   ]
  },
  {
   "cell_type": "code",
   "execution_count": 78,
   "metadata": {},
   "outputs": [
    {
     "name": "stdout",
     "output_type": "stream",
     "text": [
      "KNN with 46 neighbours on Upsampled Data \n",
      "\n",
      "             precision    recall  f1-score   support\n",
      "\n",
      "          0       0.12      0.66      0.20        50\n",
      "          1       0.95      0.54      0.69       549\n",
      "\n",
      "avg / total       0.88      0.55      0.65       599\n",
      "\n",
      "Accuracy:  54.92487479131887 %\n",
      "AUC:  59.95810564663023 %\n"
     ]
    },
    {
     "data": {
      "image/png": "[encoded data removed]",
      "text/plain": [
       "<Figure size 432x288 with 2 Axes>"
      ]
     },
     "metadata": {},
     "output_type": "display_data"
    }
   ],
   "source": [
    "# Train a KNN classifier with 46 neighbors \n",
    "knn = KNeighborsClassifier(n_neighbors=46, n_jobs=-1).fit(X_std_train_US, y_train_US)\n",
    "       \n",
    "# Prediction on test data\n",
    "y_pred = knn.predict(X_std_test)\n",
    "\n",
    "# Compute confusion matrix\n",
    "cnf_matrix = metrics.confusion_matrix(y_test, y_pred)\n",
    "np.set_printoptions(precision=2)\n",
    "\n",
    "# Plotting confusion matrix\n",
    "plt.figure()\n",
    "plot_confusion_matrix(cnf_matrix, classes=['0','1'],title='Confusion matrix')\n",
    "\n",
    "#Printing Classification Results\n",
    "print 'KNN with 46 neighbours on Upsampled Data','\\n'\n",
    "print_class_matrics(y_test, y_pred)\n",
    "plt.show()"
   ]
  },
  {
   "cell_type": "markdown",
   "metadata": {},
   "source": [
    "### <font color=darkgreen>Conclusions</font> ### "
   ]
  },
  {
   "cell_type": "markdown",
   "metadata": {},
   "source": [
    "After comparing between different algorithms both by Accuracy and AUC metrics and moreover, because AUC is more suitable metric for imbalanced data problems than Accuracy, we consider that best performed algorithm so far is **KNN classifier with 46 neighbors trained on upsampled data with AUC of ~ 60% & Accuracy of 55%**. However, if we prefer to prioritize Accuracy on AUC, best performed algorithm is **Random Forest (n_estimators = 400, random_state = 42,bootstrap=True, max_depth=10, min_samples_leaf=4, min_samples_split=2,max_features='sqrt') with Accuracy of 84.5% & AUC of 55.2% **.\n",
    "\n"
   ]
  },
  {
   "cell_type": "markdown",
   "metadata": {},
   "source": [
    "### <font color=darkgreen> Summary </font> ### "
   ]
  },
  {
   "cell_type": "markdown",
   "metadata": {},
   "source": [
    "\n",
    "**How can we use the information above in order to increase sales?** \n",
    "\n",
    "By classifying potential prospects we can detect new opportunities for engagements and sales promotions. Therefore, steps that can be used wisely in order to increase sales with the above information are the following:\n",
    "\n",
    "1. Since prospects who are more active in the network are more likely to have more connections with LinkedIn profiles, it's possible to invest in managing campaigns for hardware products in different social networks, analyze and optimize them in order to maximize conversion rate. \n",
    "\n",
    "2. Higher exposure among prospects will affect the exposure of their social platforms friends and will result in an increase for new opportunities that could increse conversion rate as well.\n",
    "\n",
    "3. Locating huge enterprises, offering them special sales or discounts in order to promote sales and to increse clients amount.  \n",
    "\n",
    "We can consider collecting other features that aren't included in the dataset provided for example, details about prospect's age and gender or other characteristics can be useful. In addition, information about sales products, quantities and prices can deliver more insights. Moreover, by collecting the names of their linkedin shared connections friends we can use Social Network Analysis in order to detect bottle necks, Hubs, Authorities, etc. In addition, extracting reviews from the differnet blogs while using natural language processing techniques can add insights about prospect's satisfaction from both company service and products quality."
   ]
  }
 ],
 "metadata": {
  "anaconda-cloud": {},
  "kernelspec": {
   "display_name": "Python [conda env:Anaconda3]",
   "language": "python",
   "name": "conda-env-Anaconda3-py"
  },
  "language_info": {
   "codemirror_mode": {
    "name": "ipython",
    "version": 2
   },
   "file_extension": ".py",
   "mimetype": "text/x-python",
   "name": "python",
   "nbconvert_exporter": "python",
   "pygments_lexer": "ipython2",
   "version": "2.7.15"
  }
 },
 "nbformat": 4,
 "nbformat_minor": 1
}
